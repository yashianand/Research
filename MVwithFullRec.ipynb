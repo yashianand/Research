{
 "cells": [
  {
   "cell_type": "code",
   "execution_count": 1,
   "metadata": {},
   "outputs": [],
   "source": [
    "%matplotlib inline\n",
    "import numpy as np\n",
    "import pandas as pd\n",
    "import torch\n",
    "from torch import optim\n",
    "import torchvision\n",
    "import matplotlib.pyplot as plt\n",
    "from time import time\n",
    "import os\n",
    "from torchvision import datasets, transforms"
   ]
  },
  {
   "cell_type": "code",
   "execution_count": 2,
   "metadata": {},
   "outputs": [],
   "source": [
    "batch_size = 64"
   ]
  },
  {
   "cell_type": "code",
   "execution_count": 3,
   "metadata": {},
   "outputs": [],
   "source": [
    "# Importing train data\n",
    "train_labels = pd.read_csv(\"/nfs/stak/users/anandy/research/dataset/MNIST/train labels.csv\", delimiter = \",\")\n",
    "train_data_up = pd.read_csv(\"/nfs/stak/users/anandy/research/dataset/MNIST/train_data_up.csv\", delimiter = \",\")\n",
    "train_data_down = pd.read_csv(\"/nfs/stak/users/anandy/research/dataset/MNIST/train_data_down.csv\", delimiter = \",\")\n",
    "train_labels = np.asarray(train_labels)\n",
    "train_lab = train_labels[:, 0]\n",
    "train_private_labels = train_labels[:, 1]\n",
    "train_public_labels = train_labels[:, 2]\n",
    "train_images_down = np.asarray(train_data_down.iloc[:,:])\n",
    "train_images_up = np.asarray(train_data_up.iloc[:,:])\n",
    "\n",
    "# Importing test data\n",
    "test_labels = pd.read_csv(\"/nfs/stak/users/anandy/research/dataset/MNIST/test labels.csv\", delimiter = \",\")\n",
    "test_data_down = pd.read_csv(\"/nfs/stak/users/anandy/research/dataset/MNIST/test_data_down.csv\", delimiter = \",\")\n",
    "test_data_up = pd.read_csv(\"/nfs/stak/users/anandy/research/dataset/MNIST/test_data_up.csv\", delimiter = \",\")\n",
    "test_labels = np.asarray(test_labels)\n",
    "test_lab = test_labels[:, 0]\n",
    "test_private_labels = test_labels[:, 1]\n",
    "test_public_labels = test_labels[:, 2]\n",
    "test_images_down = np.asarray(test_data_down.iloc[:,:])\n",
    "test_images_up = np.asarray(test_data_up.iloc[:,:])\n",
    "\n",
    "# Importing full sized train and test images and labels\n",
    "full_train_data = pd.read_csv('/nfs/stak/users/anandy/research/dataset/MNIST/train_data.csv', delimiter=\",\")\n",
    "full_test_data = pd.read_csv('/nfs/stak/users/anandy/research/dataset/MNIST/test_data.csv', delimiter=\",\")\n",
    "tr_img = np.asarray(full_train_data)\n",
    "te_img = np.asarray(full_test_data)\n",
    "train_images = tr_img[:, 3:]\n",
    "test_images = te_img[:, 3:]\n",
    "\n",
    "transform = transforms.Compose([transforms.ToTensor()])"
   ]
  },
  {
   "cell_type": "code",
   "execution_count": 4,
   "metadata": {},
   "outputs": [],
   "source": [
    "# change to multiview input?\n",
    "class MNISTDataset(torch.utils.data.Dataset):\n",
    "    def __init__(self, images, images_up, images_down, labels=None, private_labels=None, public_labels=None, transforms=None):\n",
    "        self.images = images\n",
    "        self.images_up = images_up\n",
    "        self.images_down = images_down\n",
    "        self.labels = labels\n",
    "        self.private_labels = private_labels\n",
    "        self.public_labels = public_labels\n",
    "        self.transforms = transforms\n",
    "         \n",
    "    def __len__(self):\n",
    "        return (len(self.images_up))\n",
    "    \n",
    "    def __getitem__(self, idx):\n",
    "        images_up = self.images_up[idx, :]\n",
    "        images_up = np.asarray(images_up).astype(np.uint8)\n",
    "        # print(\"type: \", images.shape)\n",
    "        images_up = np.reshape(images_up, [19, 56])\n",
    "\n",
    "        images_down = self.images_down[idx, :]\n",
    "        images_down = np.asarray(images_down).astype(np.uint8)\n",
    "        # print(\"type: \", images.shape)\n",
    "        images_down = np.reshape(images_down, [19, 56])\n",
    "        \n",
    "        images = self.images[idx, :]\n",
    "        images = np.asarray(images).astype(np.uint8)\n",
    "        images = np.reshape(images, [28, 56])\n",
    "\n",
    "        labels = self.labels[idx]\n",
    "        private_labels = self.private_labels[idx]\n",
    "        public_labels = self.public_labels[idx]\n",
    "        \n",
    "        if self.transforms:\n",
    "            images = self.transforms(images)\n",
    "            images_up = self.transforms(images_up)\n",
    "            images_down = self.transforms(images_down)\n",
    "            \n",
    "        return images, images_up, images_down, labels, private_labels, public_labels\n",
    "\n",
    "train_data = MNISTDataset(train_images, train_images_up, train_images_down, train_lab, train_private_labels, train_public_labels, transform)\n",
    "test_data = MNISTDataset(test_images, test_images_up, test_images_down, test_lab, test_private_labels, test_public_labels, transform)\n",
    " \n",
    "# dataloaders\n",
    "train_loader = torch.utils.data.DataLoader(train_data, batch_size=batch_size, shuffle=True)\n",
    "test_loader = torch.utils.data.DataLoader(test_data, batch_size=batch_size, shuffle=True)"
   ]
  },
  {
   "cell_type": "code",
   "execution_count": 5,
   "metadata": {},
   "outputs": [
    {
     "name": "stdout",
     "output_type": "stream",
     "text": [
      "<class 'torch.Tensor'>\n",
      "torch.Size([64, 1, 19, 56])\n",
      "torch.Size([64])\n"
     ]
    }
   ],
   "source": [
    "dataiter = iter(train_loader)\n",
    "images, images_up, images_down, labels, pr_labels, pu_labels = dataiter.next()\n",
    "print(type(images_up))\n",
    "print(images_up.shape)\n",
    "print(labels.shape)"
   ]
  },
  {
   "cell_type": "code",
   "execution_count": 6,
   "metadata": {},
   "outputs": [
    {
     "name": "stdout",
     "output_type": "stream",
     "text": [
      "tensor(0) tensor(1)\n"
     ]
    },
    {
     "data": {
      "image/png": "[encoded data removed]",
      "text/plain": [
       "<Figure size 432x288 with 1 Axes>"
      ]
     },
     "metadata": {
      "needs_background": "light"
     },
     "output_type": "display_data"
    }
   ],
   "source": [
    "plt.imshow(images_up[20].cpu().numpy().squeeze(), cmap='gray_r')\n",
    "print(pr_labels[10], pu_labels[10])"
   ]
  },
  {
   "cell_type": "code",
   "execution_count": 7,
   "metadata": {},
   "outputs": [],
   "source": [
    "from torch import nn\n",
    "\n",
    "# # # Build a feed-forward network\n",
    "san1_model = nn.Sequential(nn.Linear(1064, 532),\n",
    "                      nn.ReLU(),\n",
    "                      nn.Linear(532, 256),\n",
    "                      nn.ReLU(),\n",
    "                      nn.Linear(256, 128))\n",
    "\n",
    "san2_model = nn.Sequential(nn.Linear(1064, 532),\n",
    "                      nn.ReLU(),\n",
    "                      nn.Linear(532, 256),\n",
    "                      nn.ReLU(),\n",
    "                      nn.Linear(256, 128))\n",
    "\n",
    "rec_model = nn. Sequential(nn.Linear(256, 532),\n",
    "                          nn.ReLU(),\n",
    "                          nn.Linear(532, 1064),\n",
    "                          nn.ReLU(),\n",
    "                          nn.Linear(1064, 1568),\n",
    "                          nn.LeakyReLU())\n",
    "\n",
    "pr_model = nn.Sequential(nn.Linear(256, 128),\n",
    "                         nn.ReLU(),\n",
    "                        nn.Linear(128, 64),\n",
    "                        nn.ReLU(),\n",
    "                        nn.Linear(64, 10),\n",
    "                        nn.ReLU(),\n",
    "                        nn.Linear(10, 1),\n",
    "                        nn.Sigmoid())\n",
    "\n",
    "pu_model = nn.Sequential(nn.Linear(256, 128),\n",
    "                         nn.ReLU(),\n",
    "                        nn.Linear(128, 64),\n",
    "                        nn.ReLU(),\n",
    "                        nn.Linear(64, 10),\n",
    "                        nn.ReLU(),\n",
    "                        nn.Linear(10, 1),\n",
    "                        nn.Sigmoid())\n",
    "\n",
    "# san_model = nn.Sequential(\n",
    "#             nn.Conv2d(1, 16, 3, stride=2, padding=1),\n",
    "#             nn.ReLU(),\n",
    "#             nn.MaxPool2d(2,2),\n",
    "#             nn.Conv2d(16, 32, 3, stride=2, padding=1),\n",
    "#             nn.ReLU(),\n",
    "#             nn.MaxPool2d(2,2),\n",
    "#             nn.Conv2d(32, 64, 2)\n",
    "#         )\n",
    "\n",
    "# pr_model = nn.Sequential(\n",
    "#             nn.ConvTranspose2d(64, 32, 3),\n",
    "#             nn.ReLU(),\n",
    "#             nn.ConvTranspose2d(32, 16, 3, stride=2, padding=1, output_padding=1),\n",
    "#             nn.ReLU(),\n",
    "#             nn.ConvTranspose2d(16, 1, 3, stride=2, padding=1, output_padding=1),\n",
    "#             nn.ReLU(),\n",
    "#             nn.Flatten(),\n",
    "# #             nn.Linear(3136, 1560),\n",
    "# #             nn.ReLU(),\n",
    "# #             nn.Linear(1568, 780),\n",
    "# #             nn.ReLU(),\n",
    "# #             nn.Linear(780, 256),\n",
    "# #             nn.ReLU(),\n",
    "# #             nn.Linear(336, 128),\n",
    "# #             nn.ReLU(),\n",
    "#             nn.Linear(192, 64),\n",
    "#             nn.ReLU(),\n",
    "#             nn.Linear(64, 10),\n",
    "#             nn.ReLU(),\n",
    "#             nn.Linear(10, 1),\n",
    "#             nn.Sigmoid()\n",
    "#             )\n",
    "\n",
    "# pu_model = nn.Sequential(\n",
    "#             nn.ConvTranspose2d(64, 32, 3),\n",
    "#             nn.ReLU(),\n",
    "#             nn.ConvTranspose2d(32, 16, 3, stride=2, padding=1, output_padding=1),\n",
    "#             nn.ReLU(),\n",
    "#             nn.ConvTranspose2d(16, 1, 3, stride=2, padding=1, output_padding=1),\n",
    "#             nn.ReLU(),\n",
    "#             nn.Flatten(),\n",
    "# #             nn.Linear(3136, 1560),\n",
    "# #             nn.ReLU(),\n",
    "# #             nn.Linear(3, 780),\n",
    "# #             nn.ReLU(),\n",
    "# #             nn.Linear(780, 256),\n",
    "# #             nn.ReLU(),\n",
    "# #             nn.Linear(336, 128),\n",
    "# #             nn.ReLU(),\n",
    "#             nn.Linear(192, 64),\n",
    "#             nn.ReLU(),\n",
    "#             nn.Linear(64, 10),\n",
    "#             nn.ReLU(),\n",
    "#             nn.Linear(10, 1),\n",
    "#             nn.Sigmoid()\n",
    "#             )"
   ]
  },
  {
   "cell_type": "code",
   "execution_count": 8,
   "metadata": {},
   "outputs": [
    {
     "data": {
      "text/plain": [
       "Sequential(\n",
       "  (0): Linear(in_features=256, out_features=532, bias=True)\n",
       "  (1): ReLU()\n",
       "  (2): Linear(in_features=532, out_features=1064, bias=True)\n",
       "  (3): ReLU()\n",
       "  (4): Linear(in_features=1064, out_features=1568, bias=True)\n",
       "  (5): LeakyReLU(negative_slope=0.01)\n",
       ")"
      ]
     },
     "execution_count": 8,
     "metadata": {},
     "output_type": "execute_result"
    }
   ],
   "source": [
    "device = torch.device(\"cuda\" if torch.cuda.is_available() else \"cpu\")\n",
    "san1_model.to(device)\n",
    "san2_model.to(device)\n",
    "pr_model.to(device)\n",
    "pu_model.to(device)\n",
    "rec_model.to(device)"
   ]
  },
  {
   "cell_type": "code",
   "execution_count": null,
   "metadata": {},
   "outputs": [
    {
     "name": "stdout",
     "output_type": "stream",
     "text": [
      "Training Epoch 0 - San1 loss: 1.7374709170797598, San2 loss: 1.7374709170797598, Private loss: 0.6614957070716506, Public Loss: 0.6737236001759844, Recon Loss: 0.09925548180632884\n",
      "Training Epoch 1 - San1 loss: 1.712898064147481, San2 loss: 1.712898064147481, Private loss: 0.6602342621139858, Public Loss: 0.6717658078731479, Recon Loss: 0.09907831823277047\n",
      "Training Epoch 2 - San1 loss: 1.7178994127551612, San2 loss: 1.7178994127551612, Private loss: 0.6590584150665556, Public Loss: 0.6694867460014265, Recon Loss: 0.09882946954587536\n",
      "Training Epoch 3 - San1 loss: 1.70373631743214, San2 loss: 1.70373631743214, Private loss: 0.6580460461051872, Public Loss: 0.6679223030424484, Recon Loss: 0.09854659962151056\n",
      "Training Epoch 4 - San1 loss: 1.6911261185355808, San2 loss: 1.6911261185355808, Private loss: 0.6568928022518792, Public Loss: 0.6659898343293563, Recon Loss: 0.09839852586807803\n",
      "Training Epoch 5 - San1 loss: 1.7084917131897128, San2 loss: 1.7084917131897128, Private loss: 0.6563387351572666, Public Loss: 0.6639676422566709, Recon Loss: 0.09818011509907215\n",
      "Training Epoch 6 - San1 loss: 1.6914913099440163, San2 loss: 1.6914913099440163, Private loss: 0.6548819133387808, Public Loss: 0.6625960947912367, Recon Loss: 0.0977852640535368\n",
      "Training Epoch 7 - San1 loss: 1.6953138585590646, San2 loss: 1.6953138585590646, Private loss: 0.6548668021893562, Public Loss: 0.6613369289871371, Recon Loss: 0.09763349953781614\n",
      "Training Epoch 8 - San1 loss: 1.6779064290663774, San2 loss: 1.6779064290663774, Private loss: 0.6540813788276194, Public Loss: 0.6602522789517327, Recon Loss: 0.09733932566307389\n",
      "Training Epoch 9 - San1 loss: 1.6706184865263722, San2 loss: 1.6706184865263722, Private loss: 0.6533837841294915, Public Loss: 0.6590936404969686, Recon Loss: 0.09698715697392783\n",
      "Training Epoch 10 - San1 loss: 1.6778990801642923, San2 loss: 1.6778990801642923, Private loss: 0.6527795745131305, Public Loss: 0.6578101713181762, Recon Loss: 0.09663307692503076\n",
      "Training Epoch 11 - San1 loss: 1.6480344616238722, San2 loss: 1.6480344616238722, Private loss: 0.6521647914748667, Public Loss: 0.657225404858894, Recon Loss: 0.09619586478413829\n",
      "Training Epoch 12 - San1 loss: 1.663777463576373, San2 loss: 1.663777463576373, Private loss: 0.6518064454540877, Public Loss: 0.6559561385827906, Recon Loss: 0.09568349256768556\n",
      "Training Epoch 13 - San1 loss: 1.6485348235615684, San2 loss: 1.6485348235615684, Private loss: 0.6511433541469867, Public Loss: 0.6551883153598327, Recon Loss: 0.0950511570190987\n",
      "Training Epoch 14 - San1 loss: 1.6428173679829863, San2 loss: 1.6428173679829863, Private loss: 0.6509095007348853, Public Loss: 0.6545692192166662, Recon Loss: 0.09418776545606916\n",
      "Training Epoch 15 - San1 loss: 1.6435979394351734, San2 loss: 1.6435979394351734, Private loss: 0.6508002469454275, Public Loss: 0.6536168102413187, Recon Loss: 0.09302612349314762\n",
      "Training Epoch 16 - San1 loss: 1.626734443332838, San2 loss: 1.626734443332838, Private loss: 0.6501596805537143, Public Loss: 0.6528395695607071, Recon Loss: 0.09128372142534427\n",
      "Training Epoch 17 - San1 loss: 1.5979256422623345, San2 loss: 1.5979256422623345, Private loss: 0.6496379665096702, Public Loss: 0.6522376519030012, Recon Loss: 0.08870235338921437\n",
      "Training Epoch 18 - San1 loss: 1.573289544381144, San2 loss: 1.573289544381144, Private loss: 0.6495303543632293, Public Loss: 0.6514204011091491, Recon Loss: 0.08539047581917794\n",
      "Training Epoch 19 - San1 loss: 1.5350454896307357, San2 loss: 1.5350454896307357, Private loss: 0.6484863817539361, Public Loss: 0.6506370298392937, Recon Loss: 0.08140297575146341\n",
      "Training Epoch 20 - San1 loss: 1.522442742076981, San2 loss: 1.522442742076981, Private loss: 0.648102264041486, Public Loss: 0.6496297987678167, Recon Loss: 0.07812030793493971\n",
      "Training Epoch 21 - San1 loss: 1.4998896957358436, San2 loss: 1.4998896957358436, Private loss: 0.647347134702346, Public Loss: 0.6489996138740989, Recon Loss: 0.07573856819240028\n",
      "Training Epoch 22 - San1 loss: 1.494289478682496, San2 loss: 1.494289478682496, Private loss: 0.6468875801471798, Public Loss: 0.6485194512797744, Recon Loss: 0.0740396651103521\n",
      "Training Epoch 23 - San1 loss: 1.478734694478457, San2 loss: 1.478734694478457, Private loss: 0.6460793394871684, Public Loss: 0.6481431925388248, Recon Loss: 0.07272641727572207\n",
      "Training Epoch 24 - San1 loss: 1.4698809284688261, San2 loss: 1.4698809284688261, Private loss: 0.6449289702241073, Public Loss: 0.6476709676520599, Recon Loss: 0.07176234260620669\n",
      "Training Epoch 25 - San1 loss: 1.4673325570343096, San2 loss: 1.4673325570343096, Private loss: 0.6442011430135468, Public Loss: 0.6473489825987755, Recon Loss: 0.07110582031976537\n",
      "Training Epoch 26 - San1 loss: 1.462716302603407, San2 loss: 1.462716302603407, Private loss: 0.6434066278093001, Public Loss: 0.6470197265410362, Recon Loss: 0.07074624398137297\n",
      "Training Epoch 27 - San1 loss: 1.4568705205112467, San2 loss: 1.4568705205112467, Private loss: 0.6427045594853209, Public Loss: 0.646827533040815, Recon Loss: 0.07045205229002496\n",
      "Training Epoch 28 - San1 loss: 1.4614831261012866, San2 loss: 1.4614831261012866, Private loss: 0.6425236858370359, Public Loss: 0.6465716409256391, Recon Loss: 0.07034323059613137\n",
      "Training Epoch 29 - San1 loss: 1.4548114010744997, San2 loss: 1.4548114010744997, Private loss: 0.6423799965692603, Public Loss: 0.6463974949039156, Recon Loss: 0.07027694955468178\n",
      "Training Epoch 30 - San1 loss: 1.4556357342263926, San2 loss: 1.4556357342263926, Private loss: 0.6426887865109212, Public Loss: 0.6461745737611181, Recon Loss: 0.07014224089472496\n",
      "Training Epoch 31 - San1 loss: 1.454650937443804, San2 loss: 1.454650937443804, Private loss: 0.6432849632961976, Public Loss: 0.6459925446821295, Recon Loss: 0.07015237119763404\n",
      "Training Epoch 32 - San1 loss: 1.4487886623958188, San2 loss: 1.4487886623958188, Private loss: 0.6437764680751449, Public Loss: 0.6458447289741253, Recon Loss: 0.07015008136363285\n",
      "Training Epoch 33 - San1 loss: 1.4503367514256627, San2 loss: 1.4503367514256627, Private loss: 0.6446517667044764, Public Loss: 0.6456778312430662, Recon Loss: 0.07022652550197928\n",
      "Training Epoch 34 - San1 loss: 1.4511050348696501, San2 loss: 1.4511050348696501, Private loss: 0.64537177671252, Public Loss: 0.6454261855396164, Recon Loss: 0.07027658948774838\n",
      "Training Epoch 35 - San1 loss: 1.444790876734897, San2 loss: 1.444790876734897, Private loss: 0.6460145343752468, Public Loss: 0.6452995386270001, Recon Loss: 0.07034237033037273\n",
      "Training Epoch 36 - San1 loss: 1.447168355097856, San2 loss: 1.447168355097856, Private loss: 0.646911681308161, Public Loss: 0.645055299829644, Recon Loss: 0.07041779251964501\n",
      "Training Epoch 37 - San1 loss: 1.4424627967502759, San2 loss: 1.4424627967502759, Private loss: 0.6473031986095107, Public Loss: 0.6448266484853252, Recon Loss: 0.07040588267128486\n",
      "Training Epoch 38 - San1 loss: 1.4402457381148472, San2 loss: 1.4402457381148472, Private loss: 0.6479332396746291, Public Loss: 0.6446242167821625, Recon Loss: 0.07045282363472387\n",
      "Training Epoch 39 - San1 loss: 1.4388355245370694, San2 loss: 1.4388355245370694, Private loss: 0.6480608125172003, Public Loss: 0.6443472525195393, Recon Loss: 0.07042934034791444\n",
      "Training Epoch 40 - San1 loss: 1.4371264596729327, San2 loss: 1.4371264596729327, Private loss: 0.6484280041873912, Public Loss: 0.6440589304470345, Recon Loss: 0.07049512217188125\n",
      "Training Epoch 41 - San1 loss: 1.4362746114316194, San2 loss: 1.4362746114316194, Private loss: 0.648520924169999, Public Loss: 0.6436977935264178, Recon Loss: 0.07050449317297362\n",
      "Training Epoch 42 - San1 loss: 1.4406512277510466, San2 loss: 1.4406512277510466, Private loss: 0.6485567829188179, Public Loss: 0.6431622502901365, Recon Loss: 0.07050630433099045\n",
      "Training Epoch 43 - San1 loss: 1.4305274260928258, San2 loss: 1.4305274260928258, Private loss: 0.6480815466255179, Public Loss: 0.6425753865400543, Recon Loss: 0.0705022069118212\n",
      "Training Epoch 44 - San1 loss: 1.431473295402039, San2 loss: 1.431473295402039, Private loss: 0.6479184975099685, Public Loss: 0.6418185911672499, Recon Loss: 0.0704756105685478\n",
      "Training Epoch 45 - San1 loss: 1.4270697566859252, San2 loss: 1.4270697566859252, Private loss: 0.6476734296592606, Public Loss: 0.6407452099158636, Recon Loss: 0.07048439659425974\n",
      "Training Epoch 46 - San1 loss: 1.4238204687757565, San2 loss: 1.4238204687757565, Private loss: 0.6474152439085724, Public Loss: 0.6390015278630854, Recon Loss: 0.07047178742983153\n",
      "Training Epoch 47 - San1 loss: 1.4118073895154402, San2 loss: 1.4118073895154402, Private loss: 0.646906811029405, Public Loss: 0.6359463494909389, Recon Loss: 0.07043458493736089\n",
      "Training Epoch 48 - San1 loss: 1.3914523063718205, San2 loss: 1.3914523063718205, Private loss: 0.6465007357127831, Public Loss: 0.6302729892303877, Recon Loss: 0.07033817625373526\n",
      "Training Epoch 49 - San1 loss: 1.3603620626737394, San2 loss: 1.3603620626737394, Private loss: 0.6460790048017526, Public Loss: 0.6224440859101922, Recon Loss: 0.07015567697832346\n",
      "Training Epoch 50 - San1 loss: 1.33692721881525, San2 loss: 1.33692721881525, Private loss: 0.6454404370711587, Public Loss: 0.6151883429121179, Recon Loss: 0.06981911979939627\n",
      "Training Epoch 51 - San1 loss: 1.322744774391584, San2 loss: 1.322744774391584, Private loss: 0.6454101025753314, Public Loss: 0.6093293374304272, Recon Loss: 0.06957330477550207\n",
      "Training Epoch 52 - San1 loss: 1.295025684034733, San2 loss: 1.295025684034733, Private loss: 0.6451136283100108, Public Loss: 0.6054737149449565, Recon Loss: 0.06918997747247177\n",
      "Training Epoch 53 - San1 loss: 1.2833941257213388, San2 loss: 1.2833941257213388, Private loss: 0.6451041580313612, Public Loss: 0.6019304313165758, Recon Loss: 0.06895608853672625\n",
      "Training Epoch 54 - San1 loss: 1.2654464092400983, San2 loss: 1.2654464092400983, Private loss: 0.6450524843104964, Public Loss: 0.5988929757986532, Recon Loss: 0.06872309676712127\n",
      "Training Epoch 55 - San1 loss: 1.2527562968261408, San2 loss: 1.2527562968261408, Private loss: 0.6447134445542875, Public Loss: 0.595371264707097, Recon Loss: 0.06847116206308156\n",
      "Training Epoch 56 - San1 loss: 1.2457202926011341, San2 loss: 1.2457202926011341, Private loss: 0.6447982153929103, Public Loss: 0.5922240671294424, Recon Loss: 0.06826550492545223\n",
      "Training Epoch 57 - San1 loss: 1.2289909206692824, San2 loss: 1.2289909206692824, Private loss: 0.6446837227210365, Public Loss: 0.5887394946859316, Recon Loss: 0.06807376633938926\n",
      "Training Epoch 58 - San1 loss: 1.2101386770263047, San2 loss: 1.2101386770263047, Private loss: 0.6445201197853478, Public Loss: 0.5840785933272613, Recon Loss: 0.06791614291384397\n",
      "Training Epoch 59 - San1 loss: 1.186110140417543, San2 loss: 1.186110140417543, Private loss: 0.644288613058417, Public Loss: 0.5784915666598494, Recon Loss: 0.06777157324849797\n",
      "Training Epoch 60 - San1 loss: 1.1547026817146164, San2 loss: 1.1547026817146164, Private loss: 0.6441293039437755, Public Loss: 0.5678324432629148, Recon Loss: 0.0675978128467222\n",
      "Training Epoch 61 - San1 loss: 1.112070925095502, San2 loss: 1.112070925095502, Private loss: 0.6440948780692751, Public Loss: 0.5517422281720145, Recon Loss: 0.06749546709839645\n",
      "Training Epoch 62 - San1 loss: 1.0379306959069294, San2 loss: 1.0379306959069294, Private loss: 0.6440066485606191, Public Loss: 0.5402543356503977, Recon Loss: 0.06716332693234124\n",
      "Training Epoch 63 - San1 loss: 1.0163388874219812, San2 loss: 1.0163388874219812, Private loss: 0.643845022715571, Public Loss: 0.5354442446280623, Recon Loss: 0.06670969784679011\n",
      "Training Epoch 64 - San1 loss: 1.0184701397595808, San2 loss: 1.0184701397595808, Private loss: 0.643731388365826, Public Loss: 0.5327829710205497, Recon Loss: 0.0664224559274476\n",
      "Training Epoch 65 - San1 loss: 1.0149417008890216, San2 loss: 1.0149417008890216, Private loss: 0.6436818751227825, Public Loss: 0.5316006481799933, Recon Loss: 0.06616276706499821\n",
      "Training Epoch 66 - San1 loss: 0.9998121432331212, San2 loss: 0.9998121432331212, Private loss: 0.643929589358742, Public Loss: 0.5301837613972862, Recon Loss: 0.06595565215267642\n",
      "Training Epoch 67 - San1 loss: 1.0022155683668679, San2 loss: 1.0022155683668679, Private loss: 0.6438781125923557, Public Loss: 0.5287522326040146, Recon Loss: 0.0657282140477539\n",
      "Training Epoch 68 - San1 loss: 0.9782898188247096, San2 loss: 0.9782898188247096, Private loss: 0.6440571920798562, Public Loss: 0.5282626270561877, Recon Loss: 0.06554062352003649\n",
      "Training Epoch 69 - San1 loss: 0.9783875741007383, San2 loss: 0.9783875741007383, Private loss: 0.6443042691863711, Public Loss: 0.5272297843185532, Recon Loss: 0.0654402190481153\n",
      "Training Epoch 70 - San1 loss: 0.9872705796185661, San2 loss: 0.9872705796185661, Private loss: 0.6442596098346174, Public Loss: 0.5259595376146419, Recon Loss: 0.06532244759199717\n",
      "Training Epoch 71 - San1 loss: 0.9680408833886657, San2 loss: 0.9680408833886657, Private loss: 0.644414663086157, Public Loss: 0.5252447384016593, Recon Loss: 0.06529909393290424\n",
      "Training Epoch 72 - San1 loss: 0.9621091754845036, San2 loss: 0.9621091754845036, Private loss: 0.6445710384632315, Public Loss: 0.5240348585502571, Recon Loss: 0.0652608095818316\n",
      "Training Epoch 73 - San1 loss: 0.9756892318920711, San2 loss: 0.9756892318920711, Private loss: 0.6446188073176558, Public Loss: 0.5230358561210315, Recon Loss: 0.06528498078017589\n",
      "Training Epoch 74 - San1 loss: 0.9690750541589449, San2 loss: 0.9690750541589449, Private loss: 0.6448367559696402, Public Loss: 0.5227985812727448, Recon Loss: 0.0653080854593488\n",
      "Training Epoch 75 - San1 loss: 0.9807125637903238, San2 loss: 0.9807125637903238, Private loss: 0.644848180244036, Public Loss: 0.5205078852146178, Recon Loss: 0.06526597274843689\n",
      "Training Epoch 76 - San1 loss: 0.9687974324921513, San2 loss: 0.9687974324921513, Private loss: 0.6447911897431249, Public Loss: 0.5205191592197589, Recon Loss: 0.0652273121144613\n",
      "Training Epoch 77 - San1 loss: 0.9814582712510053, San2 loss: 0.9814582712510053, Private loss: 0.6447759574026708, Public Loss: 0.5196208973293719, Recon Loss: 0.0651681794763526\n",
      "Training Epoch 78 - San1 loss: 0.9561398937879011, San2 loss: 0.9561398937879011, Private loss: 0.6447812475816673, Public Loss: 0.5183208322967104, Recon Loss: 0.06512550454196113\n",
      "Training Epoch 79 - San1 loss: 0.917312587923406, San2 loss: 0.917312587923406, Private loss: 0.6445788243390105, Public Loss: 0.5181182476184557, Recon Loss: 0.06504818068250366\n",
      "Training Epoch 80 - San1 loss: 0.9719839486319696, San2 loss: 0.9719839486319696, Private loss: 0.6446217092711602, Public Loss: 0.5159530502451045, Recon Loss: 0.06501557452180197\n",
      "Training Epoch 81 - San1 loss: 0.9434469081556706, San2 loss: 0.9434469081556706, Private loss: 0.6446364342861468, Public Loss: 0.514965286225919, Recon Loss: 0.0649588629365196\n",
      "Training Epoch 82 - San1 loss: 0.9571950161243643, San2 loss: 0.9571950161243643, Private loss: 0.6446531019399843, Public Loss: 0.5132728755245428, Recon Loss: 0.06496097762947498\n",
      "Training Epoch 83 - San1 loss: 0.939030705815386, San2 loss: 0.939030705815386, Private loss: 0.6444329998987105, Public Loss: 0.5128540752641381, Recon Loss: 0.06488409520739027\n",
      "Training Epoch 84 - San1 loss: 0.9360446027477684, San2 loss: 0.9360446027477684, Private loss: 0.6443638416659802, Public Loss: 0.5122127808878184, Recon Loss: 0.06491975008469561\n",
      "Training Epoch 85 - San1 loss: 0.9187223527132703, San2 loss: 0.9187223527132703, Private loss: 0.6441544487195856, Public Loss: 0.5105048573916525, Recon Loss: 0.06482778853067504\n",
      "Training Epoch 86 - San1 loss: 0.922550274587958, San2 loss: 0.922550274587958, Private loss: 0.6440811488024719, Public Loss: 0.5089625284799835, Recon Loss: 0.0646401560005477\n",
      "Training Epoch 87 - San1 loss: 0.8909239293364308, San2 loss: 0.8909239293364308, Private loss: 0.6440424146249776, Public Loss: 0.5085112146480614, Recon Loss: 0.0645751781485346\n",
      "Training Epoch 88 - San1 loss: 0.9055117877852886, San2 loss: 0.9055117877852886, Private loss: 0.6441368369952493, Public Loss: 0.5058574953957287, Recon Loss: 0.06454668172618465\n",
      "Training Epoch 89 - San1 loss: 0.8895939780623102, San2 loss: 0.8895939780623102, Private loss: 0.6439401061486101, Public Loss: 0.5043647017167963, Recon Loss: 0.06446676906150625\n",
      "Training Epoch 90 - San1 loss: 0.8904019816757163, San2 loss: 0.8904019816757163, Private loss: 0.6437915546052596, Public Loss: 0.5041953284874596, Recon Loss: 0.06436814176266456\n",
      "Training Epoch 91 - San1 loss: 0.8876197746647593, San2 loss: 0.8876197746647593, Private loss: 0.6437000174961431, Public Loss: 0.5034388183327891, Recon Loss: 0.06432227149624806\n",
      "Training Epoch 92 - San1 loss: 0.8833218108662559, San2 loss: 0.8833218108662559, Private loss: 0.6434503979695118, Public Loss: 0.5027972667113595, Recon Loss: 0.06428726133235428\n",
      "Training Epoch 93 - San1 loss: 0.8974802426974792, San2 loss: 0.8974802426974792, Private loss: 0.6435974722780535, Public Loss: 0.5013102235086738, Recon Loss: 0.06427532880355025\n",
      "Training Epoch 94 - San1 loss: 0.8827278376235377, San2 loss: 0.8827278376235377, Private loss: 0.6435102339443344, Public Loss: 0.500122511059122, Recon Loss: 0.06423605332517868\n",
      "Training Epoch 95 - San1 loss: 0.8765823993536518, San2 loss: 0.8765823993536518, Private loss: 0.6432980648087113, Public Loss: 0.4994439609977595, Recon Loss: 0.06422032685021457\n",
      "Training Epoch 96 - San1 loss: 0.8594711869573959, San2 loss: 0.8594711869573959, Private loss: 0.6434600953098453, Public Loss: 0.49931435755756504, Recon Loss: 0.06408918646576307\n",
      "Training Epoch 97 - San1 loss: 0.8595542273558009, San2 loss: 0.8595542273558009, Private loss: 0.6434324669563557, Public Loss: 0.4992518664702125, Recon Loss: 0.0640722405727562\n",
      "Training Epoch 98 - San1 loss: 0.9058161342845243, San2 loss: 0.9058161342845243, Private loss: 0.6435667237509852, Public Loss: 0.4966422710424799, Recon Loss: 0.06398727137909825\n",
      "Training Epoch 99 - San1 loss: 0.8713286782774474, San2 loss: 0.8713286782774474, Private loss: 0.6436633662037228, Public Loss: 0.4965951982742685, Recon Loss: 0.06396497739359851\n",
      "Training Epoch 100 - San1 loss: 0.865106094828652, San2 loss: 0.865106094828652, Private loss: 0.6434984151512155, Public Loss: 0.4957598045353999, Recon Loss: 0.06396132936258145\n",
      "Training Epoch 101 - San1 loss: 0.8390755665576671, San2 loss: 0.8390755665576671, Private loss: 0.6436274964028917, Public Loss: 0.4962819845932524, Recon Loss: 0.06396722807870496\n",
      "Training Epoch 102 - San1 loss: 0.8591576085980895, San2 loss: 0.8591576085980895, Private loss: 0.6437603263446438, Public Loss: 0.49433452435923964, Recon Loss: 0.06401681629440668\n",
      "Training Epoch 103 - San1 loss: 0.8640508407826923, San2 loss: 0.8640508407826923, Private loss: 0.6439097715765619, Public Loss: 0.4949152003163877, Recon Loss: 0.06397716578124735\n",
      "Training Epoch 104 - San1 loss: 0.8602587414519561, San2 loss: 0.8602587414519561, Private loss: 0.643894731541119, Public Loss: 0.493819098567109, Recon Loss: 0.06396707067804416\n",
      "Training Epoch 105 - San1 loss: 0.8717693221538573, San2 loss: 0.8717693221538573, Private loss: 0.644014332910328, Public Loss: 0.4933530555661682, Recon Loss: 0.06389686136084902\n",
      "Training Epoch 106 - San1 loss: 0.8499209021058534, San2 loss: 0.8499209021058534, Private loss: 0.6441357161687769, Public Loss: 0.49349548837260515, Recon Loss: 0.06376390451150935\n",
      "Training Epoch 107 - San1 loss: 0.8474922887504558, San2 loss: 0.8474922887504558, Private loss: 0.6442335808216153, Public Loss: 0.49267547122200434, Recon Loss: 0.06363422316892067\n",
      "Training Epoch 108 - San1 loss: 0.8286136593050359, San2 loss: 0.8286136593050359, Private loss: 0.6442213886991486, Public Loss: 0.4925379702044875, Recon Loss: 0.06345398864134803\n",
      "Training Epoch 109 - San1 loss: 0.8457308986302837, San2 loss: 0.8457308986302837, Private loss: 0.6443804096230461, Public Loss: 0.49207220979206395, Recon Loss: 0.0632572530737847\n",
      "Training Epoch 110 - San1 loss: 0.8344648292912241, San2 loss: 0.8344648292912241, Private loss: 0.6444402238749483, Public Loss: 0.4924981824272429, Recon Loss: 0.06309353825552842\n",
      "Training Epoch 111 - San1 loss: 0.8243122125220725, San2 loss: 0.8243122125220725, Private loss: 0.6443160976595281, Public Loss: 0.49131076990643424, Recon Loss: 0.06298641443652722\n",
      "Training Epoch 112 - San1 loss: 0.824461371087662, San2 loss: 0.824461371087662, Private loss: 0.644609194811043, Public Loss: 0.49148577127767645, Recon Loss: 0.06294247965373652\n",
      "Training Epoch 113 - San1 loss: 0.8420185152527011, San2 loss: 0.8420185152527011, Private loss: 0.6446099642597501, Public Loss: 0.4913101006880441, Recon Loss: 0.06292105084547149\n",
      "Training Epoch 114 - San1 loss: 0.837592751778605, San2 loss: 0.837592751778605, Private loss: 0.6445175690571671, Public Loss: 0.4917723799453062, Recon Loss: 0.06289821795528502\n",
      "Training Epoch 115 - San1 loss: 0.8257468069910698, San2 loss: 0.8257468069910698, Private loss: 0.6445408214998367, Public Loss: 0.4914815494471499, Recon Loss: 0.06290747355812651\n",
      "Training Epoch 116 - San1 loss: 0.831705810468825, San2 loss: 0.831705810468825, Private loss: 0.6445405766787127, Public Loss: 0.49036556135510545, Recon Loss: 0.06290280696985971\n",
      "Training Epoch 117 - San1 loss: 0.838435365720783, San2 loss: 0.838435365720783, Private loss: 0.6446571413360899, Public Loss: 0.4907164605301055, Recon Loss: 0.06289986301394528\n",
      "Training Epoch 118 - San1 loss: 0.8194708470493326, San2 loss: 0.8194708470493326, Private loss: 0.644588304755023, Public Loss: 0.49064115349136656, Recon Loss: 0.06289057378345134\n",
      "Training Epoch 119 - San1 loss: 0.8234971551334157, San2 loss: 0.8234971551334157, Private loss: 0.6447665341522383, Public Loss: 0.49039117797561316, Recon Loss: 0.06289808416877256\n",
      "Training Epoch 120 - San1 loss: 0.8446372512661283, San2 loss: 0.8446372512661283, Private loss: 0.6446687165276169, Public Loss: 0.4892572789545864, Recon Loss: 0.06283138356531215\n",
      "Training Epoch 121 - San1 loss: 0.8365100289854552, San2 loss: 0.8365100289854552, Private loss: 0.6449458364330595, Public Loss: 0.488876037394909, Recon Loss: 0.0627071386693841\n",
      "Training Epoch 122 - San1 loss: 0.8238664441706275, San2 loss: 0.8238664441706275, Private loss: 0.6449064122289038, Public Loss: 0.4894626097910849, Recon Loss: 0.06263490339450518\n",
      "Training Epoch 123 - San1 loss: 0.8237434153056815, San2 loss: 0.8237434153056815, Private loss: 0.64490795722398, Public Loss: 0.48911447049406787, Recon Loss: 0.0625949258465901\n",
      "Training Epoch 124 - San1 loss: 0.8416962611400868, San2 loss: 0.8416962611400868, Private loss: 0.6448969868442896, Public Loss: 0.4884396493053802, Recon Loss: 0.06252259355219429\n",
      "Training Epoch 125 - San1 loss: 0.8230527819270064, San2 loss: 0.8230527819270064, Private loss: 0.6447839250649943, Public Loss: 0.4885264491409902, Recon Loss: 0.06233375476163519\n",
      "Training Epoch 126 - San1 loss: 0.8164127525466177, San2 loss: 0.8164127525466177, Private loss: 0.6449097287471947, Public Loss: 0.4878846120727641, Recon Loss: 0.062287509789133014\n",
      "Training Epoch 127 - San1 loss: 0.8236664237878512, San2 loss: 0.8236664237878512, Private loss: 0.6445737281418822, Public Loss: 0.4869984683325833, Recon Loss: 0.06223782011405434\n",
      "Training Epoch 128 - San1 loss: 0.8238874469571711, San2 loss: 0.8238874469571711, Private loss: 0.6448767691317117, Public Loss: 0.48725154477617016, Recon Loss: 0.062232983553462934\n",
      "Training Epoch 129 - San1 loss: 0.8166570126857904, San2 loss: 0.8166570126857904, Private loss: 0.6448708581345161, Public Loss: 0.4879663529450936, Recon Loss: 0.06216117631062827\n",
      "Training Epoch 130 - San1 loss: 0.8173660853939593, San2 loss: 0.8173660853939593, Private loss: 0.6447328982298332, Public Loss: 0.4893945479941795, Recon Loss: 0.06210038246934676\n",
      "Training Epoch 131 - San1 loss: 0.8198726000383382, San2 loss: 0.8198726000383382, Private loss: 0.6446313303907204, Public Loss: 0.4883409123820112, Recon Loss: 0.06210672963991799\n",
      "Training Epoch 132 - San1 loss: 0.8244118653904752, San2 loss: 0.8244118653904752, Private loss: 0.644720900317897, Public Loss: 0.4879861942413823, Recon Loss: 0.062061031151305686\n",
      "Training Epoch 133 - San1 loss: 0.8124901705690663, San2 loss: 0.8124901705690663, Private loss: 0.6446529513277361, Public Loss: 0.4874788442307421, Recon Loss: 0.06204262368209527\n",
      "Training Epoch 134 - San1 loss: 0.7946560803581687, San2 loss: 0.7946560803581687, Private loss: 0.6446789976428536, Public Loss: 0.48799239140947154, Recon Loss: 0.062027434873230314\n",
      "Training Epoch 135 - San1 loss: 0.8167700413852701, San2 loss: 0.8167700413852701, Private loss: 0.6446019110014981, Public Loss: 0.4867727332712744, Recon Loss: 0.061963050719112386\n",
      "Training Epoch 136 - San1 loss: 0.8040298476548451, San2 loss: 0.8040298476548451, Private loss: 0.6446487734384854, Public Loss: 0.48634999395941225, Recon Loss: 0.061896498446040754\n",
      "Training Epoch 137 - San1 loss: 0.8005495900693147, San2 loss: 0.8005495900693147, Private loss: 0.644618330632939, Public Loss: 0.48748109160024494, Recon Loss: 0.06185523932680602\n",
      "Training Epoch 138 - San1 loss: 0.8024672510678811, San2 loss: 0.8024672510678811, Private loss: 0.6445675904641066, Public Loss: 0.48752788341868564, Recon Loss: 0.06180982408887895\n",
      "Training Epoch 139 - San1 loss: 0.8187995237462661, San2 loss: 0.8187995237462661, Private loss: 0.6447335634847431, Public Loss: 0.4865325191594146, Recon Loss: 0.06172256315570048\n",
      "Training Epoch 140 - San1 loss: 0.7958402487323107, San2 loss: 0.7958402487323107, Private loss: 0.6444985705720799, Public Loss: 0.48611648437921956, Recon Loss: 0.06168610433502423\n",
      "Training Epoch 141 - San1 loss: 0.806833828196806, San2 loss: 0.806833828196806, Private loss: 0.6446996176486735, Public Loss: 0.48616608016936064, Recon Loss: 0.06172394475725758\n",
      "Training Epoch 142 - San1 loss: 0.8158510017882833, San2 loss: 0.8158510017882833, Private loss: 0.6445666729184367, Public Loss: 0.4847485176132768, Recon Loss: 0.06159354795408828\n",
      "Training Epoch 143 - San1 loss: 0.7994684843760927, San2 loss: 0.7994684843760927, Private loss: 0.6447438160934107, Public Loss: 0.48512392180502567, Recon Loss: 0.06156181785590051\n",
      "Training Epoch 144 - San1 loss: 0.8248952807063032, San2 loss: 0.8248952807063032, Private loss: 0.644638045898179, Public Loss: 0.48497579934651897, Recon Loss: 0.06146887548820442\n",
      "Training Epoch 145 - San1 loss: 0.8138689250897264, San2 loss: 0.8138689250897264, Private loss: 0.6446768167378653, Public Loss: 0.4862033530040775, Recon Loss: 0.061463808088237065\n",
      "Training Epoch 146 - San1 loss: 0.8064397046023317, San2 loss: 0.8064397046023317, Private loss: 0.6445498340727424, Public Loss: 0.48495501878164005, Recon Loss: 0.06131038652337573\n",
      "Training Epoch 147 - San1 loss: 0.7903126792224777, San2 loss: 0.7903126792224777, Private loss: 0.6446058062641212, Public Loss: 0.48499120634687526, Recon Loss: 0.061285568758502336\n",
      "Training Epoch 148 - San1 loss: 0.7925286427178346, San2 loss: 0.7925286427178346, Private loss: 0.6444319777019188, Public Loss: 0.4856380958233953, Recon Loss: 0.061108956604128906\n",
      "Training Epoch 149 - San1 loss: 0.8055206698834744, San2 loss: 0.8055206698834744, Private loss: 0.644548662407014, Public Loss: 0.4854483912744181, Recon Loss: 0.06099798069204516\n",
      "Training Epoch 150 - San1 loss: 0.7996079427811801, San2 loss: 0.7996079427811801, Private loss: 0.6444356112986269, Public Loss: 0.4847123471977156, Recon Loss: 0.060829608894103326\n",
      "Training Epoch 151 - San1 loss: 0.8199817920889696, San2 loss: 0.8199817920889696, Private loss: 0.6443385160182749, Public Loss: 0.48467730328707437, Recon Loss: 0.06063962511508666\n",
      "Training Epoch 152 - San1 loss: 0.7836528665879193, San2 loss: 0.7836528665879193, Private loss: 0.6443856927135106, Public Loss: 0.48679045643038155, Recon Loss: 0.06061219026708542\n",
      "Training Epoch 153 - San1 loss: 0.7807700871811498, San2 loss: 0.7807700871811498, Private loss: 0.6443954240483092, Public Loss: 0.4848167930188996, Recon Loss: 0.06053562722433253\n",
      "Training Epoch 154 - San1 loss: 0.7778116089608663, San2 loss: 0.7778116089608663, Private loss: 0.6443049921404065, Public Loss: 0.4846115139363062, Recon Loss: 0.06053185752590599\n",
      "Training Epoch 155 - San1 loss: 0.8022034393856897, San2 loss: 0.8022034393856897, Private loss: 0.6441270695318042, Public Loss: 0.4849754159941393, Recon Loss: 0.06054168473214597\n",
      "Training Epoch 156 - San1 loss: 0.8100426886087794, San2 loss: 0.8100426886087794, Private loss: 0.6441675957359011, Public Loss: 0.48423878505559226, Recon Loss: 0.0603987773799378\n",
      "Training Epoch 157 - San1 loss: 0.8070228532756991, San2 loss: 0.8070228532756991, Private loss: 0.6440120609977361, Public Loss: 0.4838625212840717, Recon Loss: 0.06041469426868517\n",
      "Training Epoch 158 - San1 loss: 0.7903008961006809, San2 loss: 0.7903008961006809, Private loss: 0.6439909596577325, Public Loss: 0.4843361879629857, Recon Loss: 0.06035993239173042\n",
      "Training Epoch 159 - San1 loss: 0.7794404407901228, San2 loss: 0.7794404407901228, Private loss: 0.6437443914773214, Public Loss: 0.48509096455238665, Recon Loss: 0.06035627783430964\n",
      "Training Epoch 160 - San1 loss: 0.7667513576614887, San2 loss: 0.7667513576614887, Private loss: 0.6439897507962669, Public Loss: 0.48459672291412986, Recon Loss: 0.06029118890957454\n",
      "Training Epoch 161 - San1 loss: 0.8007553788402196, San2 loss: 0.8007553788402196, Private loss: 0.643847233346661, Public Loss: 0.4837473261996608, Recon Loss: 0.060167366486338095\n",
      "Training Epoch 162 - San1 loss: 0.7992157777556983, San2 loss: 0.7992157777556983, Private loss: 0.6438215602084499, Public Loss: 0.4840870336117342, Recon Loss: 0.060094501484957194\n",
      "Training Epoch 163 - San1 loss: 0.8046715704681319, San2 loss: 0.8046715704681319, Private loss: 0.6438388304637216, Public Loss: 0.48302342748398064, Recon Loss: 0.05998635554538511\n",
      "Training Epoch 164 - San1 loss: 0.7967678616418863, San2 loss: 0.7967678616418863, Private loss: 0.6437281444097114, Public Loss: 0.48375351677465317, Recon Loss: 0.05994065114966286\n",
      "Training Epoch 165 - San1 loss: 0.7943694170783547, San2 loss: 0.7943694170783547, Private loss: 0.6437879742868721, Public Loss: 0.48329006158329946, Recon Loss: 0.059907739000666475\n",
      "Training Epoch 166 - San1 loss: 0.778288121723458, San2 loss: 0.778288121723458, Private loss: 0.643634316942576, Public Loss: 0.4840196559343801, Recon Loss: 0.059857178093565395\n",
      "Training Epoch 167 - San1 loss: 0.7715540932267523, San2 loss: 0.7715540932267523, Private loss: 0.6437641562098433, Public Loss: 0.4831696787606115, Recon Loss: 0.05981304708992124\n",
      "Training Epoch 168 - San1 loss: 0.774757048662971, San2 loss: 0.774757048662971, Private loss: 0.6437312292168512, Public Loss: 0.4848035956587633, Recon Loss: 0.05980618089875754\n",
      "Training Epoch 169 - San1 loss: 0.7789603084554453, San2 loss: 0.7789603084554453, Private loss: 0.6436614116744312, Public Loss: 0.48395083101509173, Recon Loss: 0.05974073422229503\n",
      "Training Epoch 170 - San1 loss: 0.7667268377435786, San2 loss: 0.7667268377435786, Private loss: 0.6438527496726921, Public Loss: 0.48362607411716296, Recon Loss: 0.05975747127514666\n",
      "Training Epoch 171 - San1 loss: 0.7808527153776125, San2 loss: 0.7808527153776125, Private loss: 0.643863971428493, Public Loss: 0.4829586953534495, Recon Loss: 0.05975206463557223\n",
      "Training Epoch 172 - San1 loss: 0.8055276846336892, San2 loss: 0.8055276846336892, Private loss: 0.643991543356415, Public Loss: 0.4821696969706689, Recon Loss: 0.059707167170122456\n",
      "Training Epoch 173 - San1 loss: 0.8011815858923871, San2 loss: 0.8011815858923871, Private loss: 0.6439892797518874, Public Loss: 0.4821290958034413, Recon Loss: 0.059711260178014446\n",
      "Training Epoch 174 - San1 loss: 0.7909954100313699, San2 loss: 0.7909954100313699, Private loss: 0.6438237641321118, Public Loss: 0.482701884434961, Recon Loss: 0.05962381760120544\n",
      "Training Epoch 175 - San1 loss: 0.7833416150963824, San2 loss: 0.7833416150963824, Private loss: 0.6440150750719983, Public Loss: 0.4819925018131276, Recon Loss: 0.059632912449672094\n",
      "Training Epoch 176 - San1 loss: 0.7826151445393672, San2 loss: 0.7826151445393672, Private loss: 0.6440854737215944, Public Loss: 0.48203233882899177, Recon Loss: 0.059633197734499224\n",
      "Training Epoch 177 - San1 loss: 0.8155162060047354, San2 loss: 0.8155162060047354, Private loss: 0.644100926568746, Public Loss: 0.48179092820343156, Recon Loss: 0.059590886325558735\n",
      "Training Epoch 178 - San1 loss: 0.771051799549776, San2 loss: 0.771051799549776, Private loss: 0.6440201739368536, Public Loss: 0.48336155392477276, Recon Loss: 0.059595216194267775\n",
      "Training Epoch 179 - San1 loss: 0.7807207034372002, San2 loss: 0.7807207034372002, Private loss: 0.6441893887794231, Public Loss: 0.4822816027094946, Recon Loss: 0.05952685418755502\n",
      "Training Epoch 180 - San1 loss: 0.8079617200300212, San2 loss: 0.8079617200300212, Private loss: 0.6440690473065047, Public Loss: 0.48245970455124554, Recon Loss: 0.0594560929795589\n",
      "Training Epoch 181 - San1 loss: 0.7787149092730354, San2 loss: 0.7787149092730354, Private loss: 0.6439958996784961, Public Loss: 0.4830831936405748, Recon Loss: 0.05937520442220866\n",
      "Training Epoch 182 - San1 loss: 0.7690813181650303, San2 loss: 0.7690813181650303, Private loss: 0.6440222799168218, Public Loss: 0.48251707893808177, Recon Loss: 0.05930705964470001\n",
      "Training Epoch 183 - San1 loss: 0.775741601539085, San2 loss: 0.775741601539085, Private loss: 0.6439924621978379, Public Loss: 0.4846431755882395, Recon Loss: 0.05937481754938202\n",
      "Training Epoch 184 - San1 loss: 0.7634006388047162, San2 loss: 0.7634006388047162, Private loss: 0.6439595884831665, Public Loss: 0.48212311616943926, Recon Loss: 0.059283515452728856\n",
      "Training Epoch 185 - San1 loss: 0.7794289527951604, San2 loss: 0.7794289527951604, Private loss: 0.6442362844486675, Public Loss: 0.48227647087915476, Recon Loss: 0.05928296375724361\n",
      "Training Epoch 186 - San1 loss: 0.7829488110359367, San2 loss: 0.7829488110359367, Private loss: 0.6440895648716051, Public Loss: 0.4816902835122155, Recon Loss: 0.059214990900453096\n",
      "Training Epoch 187 - San1 loss: 0.7781027747542048, San2 loss: 0.7781027747542048, Private loss: 0.6440670144222581, Public Loss: 0.4812795761067544, Recon Loss: 0.05921094072387194\n",
      "Training Epoch 188 - San1 loss: 0.7744320457243858, San2 loss: 0.7744320457243858, Private loss: 0.6439364805550831, Public Loss: 0.4819716644637725, Recon Loss: 0.05911526213045163\n",
      "Training Epoch 189 - San1 loss: 0.7771185535908965, San2 loss: 0.7771185535908965, Private loss: 0.6440267216061693, Public Loss: 0.48196253009007106, Recon Loss: 0.05904561461275801\n",
      "Training Epoch 190 - San1 loss: 0.7930648759807772, San2 loss: 0.7930648759807772, Private loss: 0.6439525741902764, Public Loss: 0.4800548879691707, Recon Loss: 0.05898145313286568\n",
      "Training Epoch 191 - San1 loss: 0.7644514659481585, San2 loss: 0.7644514659481585, Private loss: 0.6439803880651284, Public Loss: 0.48297639450301294, Recon Loss: 0.05894686407445337\n",
      "Training Epoch 192 - San1 loss: 0.7571997166899465, San2 loss: 0.7571997166899465, Private loss: 0.6439124446390839, Public Loss: 0.48103893580644025, Recon Loss: 0.05888398280819816\n",
      "Training Epoch 193 - San1 loss: 0.7742974800831827, San2 loss: 0.7742974800831827, Private loss: 0.6438514962982949, Public Loss: 0.48158873606215963, Recon Loss: 0.0588054839817002\n",
      "Training Epoch 194 - San1 loss: 0.7586225451106001, San2 loss: 0.7586225451106001, Private loss: 0.643936625908098, Public Loss: 0.48152961903978186, Recon Loss: 0.05874415992013634\n",
      "Training Epoch 195 - San1 loss: 0.7796403855618919, San2 loss: 0.7796403855618919, Private loss: 0.6439472138119475, Public Loss: 0.48086716051754136, Recon Loss: 0.05871433220670351\n",
      "Training Epoch 196 - San1 loss: 0.7652511060085443, San2 loss: 0.7652511060085443, Private loss: 0.6438794091077107, Public Loss: 0.482106000299344, Recon Loss: 0.05864300003842167\n",
      "Training Epoch 197 - San1 loss: 0.7541854399854265, San2 loss: 0.7541854399854265, Private loss: 0.643969502747821, Public Loss: 0.48209184385321635, Recon Loss: 0.05854577738839342\n",
      "Training Epoch 198 - San1 loss: 0.7725854273647299, San2 loss: 0.7725854273647299, Private loss: 0.6440613177578772, Public Loss: 0.4818140569778964, Recon Loss: 0.0584962819143177\n",
      "Training Epoch 199 - San1 loss: 0.7888305961628399, San2 loss: 0.7888305961628399, Private loss: 0.6438870557281368, Public Loss: 0.4817177466952892, Recon Loss: 0.058395494313915365\n",
      "Training Epoch 200 - San1 loss: 0.7628397295237197, San2 loss: 0.7628397295237197, Private loss: 0.6439960210219674, Public Loss: 0.48267732236696326, Recon Loss: 0.058396360710682466\n",
      "Training Epoch 201 - San1 loss: 0.748980402641589, San2 loss: 0.748980402641589, Private loss: 0.6441535940560539, Public Loss: 0.4816321499664765, Recon Loss: 0.05833314560696749\n",
      "Training Epoch 202 - San1 loss: 0.7517790269973638, San2 loss: 0.7517790269973638, Private loss: 0.6439977366753551, Public Loss: 0.48239587868570977, Recon Loss: 0.0583047059881489\n",
      "Training Epoch 203 - San1 loss: 0.7658554721061531, San2 loss: 0.7658554721061531, Private loss: 0.64399819544819, Public Loss: 0.48097481008838205, Recon Loss: 0.05820709388807911\n",
      "Training Epoch 204 - San1 loss: 0.7617011472697148, San2 loss: 0.7617011472697148, Private loss: 0.6441938758963515, Public Loss: 0.48116518560882726, Recon Loss: 0.05821024356386088\n",
      "Training Epoch 205 - San1 loss: 0.7395415903662171, San2 loss: 0.7395415903662171, Private loss: 0.6441414567363232, Public Loss: 0.48141890139226107, Recon Loss: 0.05819185013356416\n",
      "Training Epoch 206 - San1 loss: 0.7767236421785086, San2 loss: 0.7767236421785086, Private loss: 0.6442261429698876, Public Loss: 0.48062181545188054, Recon Loss: 0.058141598687566756\n",
      "Training Epoch 207 - San1 loss: 0.7505499603193434, San2 loss: 0.7505499603193434, Private loss: 0.6441369350151638, Public Loss: 0.48137490375115133, Recon Loss: 0.05802245181806557\n",
      "Training Epoch 208 - San1 loss: 0.7769452434061738, San2 loss: 0.7769452434061738, Private loss: 0.6440255805811919, Public Loss: 0.4812997308228632, Recon Loss: 0.0579995439361657\n",
      "Training Epoch 209 - San1 loss: 0.7526845517365829, San2 loss: 0.7526845517365829, Private loss: 0.6440308917971218, Public Loss: 0.48116333595931987, Recon Loss: 0.05797505004764975\n",
      "Training Epoch 210 - San1 loss: 0.7628394148843672, San2 loss: 0.7628394148843672, Private loss: 0.644225017493948, Public Loss: 0.47988803863830276, Recon Loss: 0.05793686067718831\n",
      "Training Epoch 211 - San1 loss: 0.7780300784293953, San2 loss: 0.7780300784293953, Private loss: 0.6441135626009968, Public Loss: 0.4796530528141714, Recon Loss: 0.05790171767477794\n",
      "Training Epoch 212 - San1 loss: 0.7592763412943886, San2 loss: 0.7592763412943886, Private loss: 0.644042028719202, Public Loss: 0.48045679179908674, Recon Loss: 0.05781657432618044\n",
      "Training Epoch 213 - San1 loss: 0.752953685458054, San2 loss: 0.752953685458054, Private loss: 0.6441083483378905, Public Loss: 0.4809371290914238, Recon Loss: 0.057796326882737066\n",
      "Training Epoch 214 - San1 loss: 0.7502342160705411, San2 loss: 0.7502342160705411, Private loss: 0.6440660298023078, Public Loss: 0.47985002371813634, Recon Loss: 0.05770282862741319\n",
      "Training Epoch 215 - San1 loss: 0.7296601073516299, San2 loss: 0.7296601073516299, Private loss: 0.644074851137293, Public Loss: 0.4801759438593979, Recon Loss: 0.057637205952421174\n",
      "Training Epoch 216 - San1 loss: 0.7618482277521392, San2 loss: 0.7618482277521392, Private loss: 0.6441200114119693, Public Loss: 0.4791507339843399, Recon Loss: 0.05756454516078353\n",
      "Training Epoch 217 - San1 loss: 0.7582045016081437, San2 loss: 0.7582045016081437, Private loss: 0.6440948868346641, Public Loss: 0.47957039519649025, Recon Loss: 0.0575253474037818\n",
      "Training Epoch 218 - San1 loss: 0.7471404648802774, San2 loss: 0.7471404648802774, Private loss: 0.643854349241842, Public Loss: 0.4794895076538291, Recon Loss: 0.0574725892089898\n",
      "Training Epoch 219 - San1 loss: 0.7515379303251691, San2 loss: 0.7515379303251691, Private loss: 0.6441828203018364, Public Loss: 0.4797549789671398, Recon Loss: 0.0574558214582217\n",
      "Training Epoch 220 - San1 loss: 0.7421813242880585, San2 loss: 0.7421813242880585, Private loss: 0.6441814707368231, Public Loss: 0.47999513431278334, Recon Loss: 0.057356624013703804\n",
      "Training Epoch 221 - San1 loss: 0.7698488772067877, San2 loss: 0.7698488772067877, Private loss: 0.6441323833392404, Public Loss: 0.4803111889706853, Recon Loss: 0.05727614879684375\n",
      "Training Epoch 222 - San1 loss: 0.7668552423072288, San2 loss: 0.7668552423072288, Private loss: 0.6441767996991686, Public Loss: 0.48087155193928866, Recon Loss: 0.05722924232806848\n",
      "Training Epoch 223 - San1 loss: 0.7583959535564608, San2 loss: 0.7583959535564608, Private loss: 0.6440603736873782, Public Loss: 0.4805724957333806, Recon Loss: 0.057144585082216946\n",
      "Training Epoch 224 - San1 loss: 0.7618605572244396, San2 loss: 0.7618605572244396, Private loss: 0.6439777774274197, Public Loss: 0.480823888193311, Recon Loss: 0.057064076752194666\n",
      "Training Epoch 225 - San1 loss: 0.7381573528280039, San2 loss: 0.7381573528280039, Private loss: 0.6440427351333297, Public Loss: 0.4800288191308146, Recon Loss: 0.057040283985226356\n",
      "Training Epoch 226 - San1 loss: 0.7466917037963867, San2 loss: 0.7466917037963867, Private loss: 0.6440336095250171, Public Loss: 0.4796578686712953, Recon Loss: 0.056953517177030254\n",
      "Training Epoch 227 - San1 loss: 0.7572165925789367, San2 loss: 0.7572165925789367, Private loss: 0.6439587178894931, Public Loss: 0.47908613390629856, Recon Loss: 0.056854915378801045\n",
      "Training Epoch 228 - San1 loss: 0.7502775387385922, San2 loss: 0.7502775387385922, Private loss: 0.6441091260184413, Public Loss: 0.4793235209515637, Recon Loss: 0.056873429276030084\n",
      "Training Epoch 229 - San1 loss: 0.7581622984708117, San2 loss: 0.7581622984708117, Private loss: 0.6439890479645156, Public Loss: 0.47984518857715686, Recon Loss: 0.05674346851761384\n",
      "Training Epoch 230 - San1 loss: 0.7736675111229158, San2 loss: 0.7736675111229158, Private loss: 0.644084190468654, Public Loss: 0.47954950704598975, Recon Loss: 0.056674582702691295\n",
      "Training Epoch 231 - San1 loss: 0.7564942245288273, San2 loss: 0.7564942245288273, Private loss: 0.6440675642789172, Public Loss: 0.4804276265680333, Recon Loss: 0.056615285856453965\n",
      "Training Epoch 232 - San1 loss: 0.7461325847889151, San2 loss: 0.7461325847889151, Private loss: 0.6440197128011748, Public Loss: 0.4800279487276931, Recon Loss: 0.05657588710527286\n",
      "Training Epoch 233 - San1 loss: 0.7666560219376898, San2 loss: 0.7666560219376898, Private loss: 0.6438125515228037, Public Loss: 0.47866917677852505, Recon Loss: 0.05647634823456445\n",
      "Training Epoch 234 - San1 loss: 0.7642831777977517, San2 loss: 0.7642831777977517, Private loss: 0.6438213477811545, Public Loss: 0.47923581283110794, Recon Loss: 0.05639418452749472\n",
      "Training Epoch 235 - San1 loss: 0.7221842519462566, San2 loss: 0.7221842519462566, Private loss: 0.643777133634938, Public Loss: 0.4804525222162456, Recon Loss: 0.05624170907680184\n"
     ]
    }
   ],
   "source": [
    "pr_optimizer = optim.SGD(pr_model.parameters(), lr=0.0003, momentum=0.9)\n",
    "pu_optimizer = optim.SGD(pu_model.parameters(), lr=0.0003, momentum=0.9)\n",
    "rec_optimizer = optim.SGD(rec_model.parameters(), lr=0.0003, momentum=0.9)\n",
    "san1_optimizer = optim.SGD(san1_model.parameters(), lr=0.0003, momentum=0.9)\n",
    "san2_optimizer = optim.SGD(san2_model.parameters(), lr=0.0003, momentum=0.9)\n",
    "criterion = nn.BCEWithLogitsLoss()\n",
    "rec_criterion = nn.MSELoss()\n",
    "\n",
    "train_loss_rec = []\n",
    "train_loss_pr = []\n",
    "train_loss_pu = []\n",
    "train_loss_san1 = []\n",
    "train_loss_san2 = []\n",
    "\n",
    "time0 = time()\n",
    "epochs = 500\n",
    "for e in range(epochs):\n",
    "    san1_running_loss = 0\n",
    "    san2_running_loss = 0\n",
    "    pr_running_loss = 0\n",
    "    pu_running_loss = 0\n",
    "    rec_running_loss = 0\n",
    "    for idx, (images, images_up, images_down, labels, pr_labels, pu_labels)in enumerate(train_loader):\n",
    "        # Flatten MNIST images into a 784 long vector\n",
    "        images = images.view(images.size(0), -1)\n",
    "        images = images.to(device)\n",
    "        images_up = images_up.view(images_up.size(0), -1)\n",
    "        images_up = images_up.to(device)\n",
    "        images_down = images_down.view(images_down.size(0), -1)\n",
    "        images_down = images_down.to(device)\n",
    "        labels = labels.to(device)\n",
    "        labels = labels.type(torch.cuda.FloatTensor)\n",
    "        labels = labels.view(labels.size(0), -1)\n",
    "        pr_labels = pr_labels.to(device)\n",
    "        pr_labels = pr_labels.type(torch.cuda.FloatTensor)\n",
    "        pr_labels = pr_labels.view(pr_labels.size(0), -1)\n",
    "        pu_labels = pu_labels.to(device)\n",
    "        pu_labels = pu_labels.type(torch.cuda.FloatTensor)\n",
    "        pu_labels = pu_labels.view(pu_labels.size(0), -1)  \n",
    "        \n",
    "        # Training pass\n",
    "        if idx%15 != 0:\n",
    "            pr_optimizer.zero_grad()\n",
    "            pu_optimizer.zero_grad()\n",
    "            rec_optimizer.zero_grad()\n",
    "        \n",
    "            san1_output = san1_model(images_up)\n",
    "            san2_output = san2_model(images_down)\n",
    "            san_output = torch.cat((san1_output, san2_output), 1)\n",
    "            \n",
    "            pr_output = pr_model(san_output)\n",
    "            pr_loss = criterion(pr_output, pr_labels)\n",
    "            pr_loss.backward(retain_graph=True)\n",
    "            \n",
    "            pu_output = pu_model(san_output)\n",
    "            pu_loss = criterion(pu_output, pu_labels)\n",
    "            pu_loss.backward(retain_graph=True)\n",
    "            \n",
    "            rec_output = rec_model(san_output)\n",
    "            rec_loss = rec_criterion(rec_output, images)\n",
    "            rec_loss.backward()\n",
    "            \n",
    "            pr_optimizer.step()\n",
    "            rec_optimizer.step()\n",
    "            pu_optimizer.step()\n",
    "            \n",
    "            pr_running_loss += pr_loss.item()\n",
    "            pu_running_loss += pu_loss.item()\n",
    "            rec_running_loss += rec_loss.item()\n",
    "            \n",
    "        if idx%15 == 0:\n",
    "            san1_optimizer.zero_grad()\n",
    "            san2_optimizer.zero_grad()\n",
    "            \n",
    "            san1_output = san1_model(images_up)\n",
    "            san2_output = san2_model(images_down)\n",
    "            san_output = torch.cat((san1_output, san2_output), 1)\n",
    "            \n",
    "            pr_output = pr_model(san_output)\n",
    "            pr_loss = criterion(pr_output, pr_labels)\n",
    "            pu_output = pu_model(san_output)\n",
    "            pu_loss = criterion(pu_output, pu_labels)\n",
    "            rec_output = rec_model(san_output)\n",
    "            rec_loss = rec_criterion(rec_output, images)\n",
    "            \n",
    "            loss = (50*pu_loss +100*rec_loss) - (30*pr_loss)\n",
    "#             loss = 30*pu_loss - 4*pr_loss\n",
    "            loss.backward()\n",
    "            san1_optimizer.step()\n",
    "            san2_optimizer.step()\n",
    "        \n",
    "            san1_running_loss += loss.item()\n",
    "            san2_running_loss += loss.item()\n",
    "    else:\n",
    "        print(\"Training Epoch {} - San1 loss: {}, San2 loss: {}, Private loss: {}, Public Loss: {}, Recon Loss: {}\".format(e, san1_running_loss/len(train_loader), san2_running_loss/len(train_loader), pr_running_loss/len(train_loader), pu_running_loss/len(train_loader), rec_running_loss/len(train_loader)))\n",
    "    train_loss_rec.append(rec_running_loss/len(train_loader))\n",
    "    train_loss_pr.append(pr_running_loss/len(train_loader))\n",
    "    train_loss_pu.append(pu_running_loss/len(train_loader))\n",
    "    train_loss_san1.append(san1_running_loss/len(train_loader))\n",
    "    train_loss_san2.append(san2_running_loss/len(train_loader))\n",
    "\n",
    "print(\"\\nTraining Time (in minutes) =\",(time()-time0)/60)"
   ]
  },
  {
   "cell_type": "code",
   "execution_count": null,
   "metadata": {
    "jupyter": {
     "source_hidden": true
    }
   },
   "outputs": [],
   "source": [
    "from torchvision.utils import save_image\n",
    "\n",
    "dir = '5/16-pu&pr'\n",
    "\n",
    "def make_dir():\n",
    "    image_dir = dir\n",
    "    if not os.path.exists(image_dir):\n",
    "        os.makedirs(image_dir)\n",
    "make_dir()\n",
    "\n",
    "def save_decod_img(img, org_img, epoch):\n",
    "    img = img.view(img.size(0), 1, 28, 56)\n",
    "    org_img = org_img.view(org_img.size(0), 1, 28, 56)\n",
    "    save_image(img, dir+'/image_rec{}.png'.format(epoch))\n",
    "    save_image(org_img, dir+'/image_org{}.png'.format(epoch))"
   ]
  },
  {
   "cell_type": "code",
   "execution_count": null,
   "metadata": {
    "jupyter": {
     "source_hidden": true
    }
   },
   "outputs": [],
   "source": [
    "path = dir+'/model.pth'\n",
    "\n",
    "torch.save({\n",
    "        'san_state_dict': san_model.state_dict(),\n",
    "        'pr_state_dict' : pr_model.state_dict(),\n",
    "        'pu_state_dict' : pu_model.state_dict(),\n",
    "#         'rec_state_dict' : rec_model.state_dict(),\n",
    "        'san_optimizer_state_dict': san_optimizer.state_dict(),\n",
    "        'pu_optimizer_state_dict' : pu_optimizer.state_dict(),\n",
    "        'pr_optimizer_state_dict' : pr_optimizer.state_dict(),\n",
    "#         'rec_optimizer_state_dict' : rec_optimizer.state_dict(),\n",
    "        'epoch': epochs,\n",
    "#         'rec_loss': rec_loss,\n",
    "        'pr_loss' : pr_loss,\n",
    "        'pu_loss' : pu_loss,\n",
    "        'san_loss' : loss, \n",
    "#         'rec_losses': train_loss_rec,\n",
    "#         'pr_losses': train_loss_pr,\n",
    "#         'pu_losses': train_loss_pu, \n",
    "#         'san_losses': train_loss_san\n",
    "        }, path)"
   ]
  },
  {
   "cell_type": "code",
   "execution_count": 16,
   "metadata": {},
   "outputs": [
    {
     "data": {
      "text/plain": [
       "Text(0, 0.5, 'Loss')"
      ]
     },
     "execution_count": 16,
     "metadata": {},
     "output_type": "execute_result"
    },
    {
     "data": {
      "image/png": "[encoded data removed]",
      "text/plain": [
       "<Figure size 432x288 with 1 Axes>"
      ]
     },
     "metadata": {
      "needs_background": "light"
     },
     "output_type": "display_data"
    },
    {
     "data": {
      "image/png": "[encoded data removed]",
      "text/plain": [
       "<Figure size 432x288 with 1 Axes>"
      ]
     },
     "metadata": {
      "needs_background": "light"
     },
     "output_type": "display_data"
    },
    {
     "data": {
      "image/png": "[encoded data removed]",
      "text/plain": [
       "<Figure size 432x288 with 1 Axes>"
      ]
     },
     "metadata": {
      "needs_background": "light"
     },
     "output_type": "display_data"
    },
    {
     "data": {
      "image/png": "[encoded data removed]",
      "text/plain": [
       "<Figure size 432x288 with 1 Axes>"
      ]
     },
     "metadata": {
      "needs_background": "light"
     },
     "output_type": "display_data"
    },
    {
     "data": {
      "image/png": "[encoded data removed]",
      "text/plain": [
       "<Figure size 432x288 with 1 Axes>"
      ]
     },
     "metadata": {
      "needs_background": "light"
     },
     "output_type": "display_data"
    }
   ],
   "source": [
    "plt.figure()\n",
    "plt.plot(train_loss_pr)\n",
    "plt.title('Train Loss Private')\n",
    "plt.xlabel('Epochs')\n",
    "plt.ylabel('Loss')\n",
    "# plt.savefig(dir+'/pr_loss.png')\n",
    "\n",
    "plt.figure()\n",
    "plt.plot(train_loss_pu)\n",
    "plt.title('Train Loss Public')\n",
    "plt.xlabel('Epochs')\n",
    "plt.ylabel('Loss')\n",
    "# plt.savefig(dir+'/pu_loss.png')\n",
    "\n",
    "plt.figure()\n",
    "plt.plot(train_loss_rec)\n",
    "plt.title('Train Loss Rec')\n",
    "plt.xlabel('Epochs')\n",
    "plt.ylabel('Loss')\n",
    "# plt.savefig(dir+'/rec_loss.png')\n",
    "\n",
    "plt.figure()\n",
    "plt.plot(train_loss_san1)\n",
    "plt.title('Train Loss San')\n",
    "plt.xlabel('Epochs')\n",
    "plt.ylabel('Loss')\n",
    "# plt.savefig(dir+'/rec_loss.png')\n",
    "\n",
    "plt.figure()\n",
    "plt.plot(train_loss_san2)\n",
    "plt.title('Train Loss San')\n",
    "plt.xlabel('Epochs')\n",
    "plt.ylabel('Loss')"
   ]
  },
  {
   "cell_type": "code",
   "execution_count": 17,
   "metadata": {},
   "outputs": [],
   "source": [
    "def view_classify(img, ps):\n",
    "    ''' Function for viewing an image and it's predicted classes.\n",
    "    '''\n",
    "    ps = ps.cpu().data.numpy().squeeze()\n",
    "\n",
    "    fig, (ax1, ax2) = plt.subplots(figsize=(6,9), ncols=2)\n",
    "    ax1.imshow(img.cpu().resize_(1, 28, 56).numpy().squeeze())\n",
    "    ax1.axis('off')\n",
    "    ax2.barh(np.arange(1), ps)\n",
    "    ax2.set_aspect(0.1)\n",
    "    ax2.set_yticks(np.arange(1))\n",
    "    ax2.set_yticklabels(np.arange(1))\n",
    "    ax2.set_title('Class Probability')\n",
    "    ax2.set_xlim(0, 1.1)\n",
    "    plt.tight_layout()"
   ]
  },
  {
   "cell_type": "code",
   "execution_count": 18,
   "metadata": {},
   "outputs": [
    {
     "name": "stdout",
     "output_type": "stream",
     "text": [
      "Predicted Public label = [1.]\n",
      "Private model output value =  0.12973922491073608\n",
      "Predicted Private label = [0.]\n"
     ]
    },
    {
     "data": {
      "image/png": "[encoded data removed]",
      "text/plain": [
       "<Figure size 432x648 with 2 Axes>"
      ]
     },
     "metadata": {
      "needs_background": "light"
     },
     "output_type": "display_data"
    },
    {
     "data": {
      "image/png": "[encoded data removed]",
      "text/plain": [
       "<Figure size 432x648 with 2 Axes>"
      ]
     },
     "metadata": {
      "needs_background": "light"
     },
     "output_type": "display_data"
    }
   ],
   "source": [
    "images, images_up, images_down, labels, pr_labels, pu_labels = next(iter(test_loader))\n",
    "images = images.view(images.shape[0], -1)\n",
    "images = images.to(device)\n",
    "images_up = images_up.view(images_up.size(0), -1)\n",
    "images_up = images_up.to(device)\n",
    "images_down = images_down.view(images_down.size(0), -1)\n",
    "images_down = images_down.to(device)\n",
    "labels = labels.to(device)\n",
    "labels = labels.type(torch.cuda.FloatTensor)\n",
    "labels = labels.view(labels.size(0), -1)\n",
    "pr_labels = pr_labels.to(device)\n",
    "pr_labels = pr_labels.type(torch.cuda.FloatTensor)\n",
    "pr_labels = pr_labels.view(pr_labels.size(0), -1)\n",
    "pu_labels = pu_labels.to(device)\n",
    "pu_labels = pu_labels.type(torch.cuda.FloatTensor)\n",
    "pu_labels = pu_labels.view(pu_labels.size(0), -1) \n",
    "\n",
    "pu_acc = 0\n",
    "# Turn off gradients to speed up this part\n",
    "i = 10\n",
    "img = images[i].view(1, 1568)\n",
    "img_up = images_up[i].view(1, 1064)\n",
    "img_down = images_down[i].view(1, 1064)\n",
    "\n",
    "with torch.no_grad():\n",
    "    san1_output = san1_model(img_up)\n",
    "    san2_output = san2_model(img_down)\n",
    "    san_output = torch.cat((san1_output, san2_output),1)\n",
    "    pr_output = pr_model(san_output)\n",
    "    pr_out = pr_output.reshape(-1).cpu().detach().numpy().round()\n",
    "    pu_output = pu_model(san_output)\n",
    "    pu_out = pu_output.reshape(-1).cpu().detach().numpy().round() \n",
    "    \n",
    "print(\"Predicted Public label =\", pu_out)\n",
    "view_classify(img.view(1, 28, 56), pu_output)\n",
    "print(\"Private model output value = \", pr_output.item())\n",
    "print(\"Predicted Private label =\", pr_out)\n",
    "view_classify(img.view(1, 28, 56), pr_output)"
   ]
  },
  {
   "cell_type": "code",
   "execution_count": 19,
   "metadata": {},
   "outputs": [
    {
     "name": "stdout",
     "output_type": "stream",
     "text": [
      "Number Of Images Tested = 4999\n",
      "\n",
      "Private Model Accuracy = 0.5109021804360873\n",
      "\n",
      "Public Model Accuracy =  0.9741948389677936\n"
     ]
    }
   ],
   "source": [
    "pr_correct_count, pu_correct_count, all_count = 0, 0, 0\n",
    "for images,images_up, images_down, labels, pr_labels, pu_labels in test_loader:\n",
    "    images = images.view(images.shape[0], -1)\n",
    "    images = images.to(device)\n",
    "    images_up = images_up.view(images_up.size(0), -1)\n",
    "    images_up = images_up.to(device)\n",
    "    images_down = images_down.view(images_down.size(0), -1)\n",
    "    images_down = images_down.to(device)\n",
    "    labels = labels.to(device)\n",
    "    labels = labels.type(torch.cuda.FloatTensor)\n",
    "    labels = labels.view(labels.size(0), -1)\n",
    "    pr_labels = pr_labels.to(device)\n",
    "    pr_labels = pr_labels.type(torch.cuda.FloatTensor)\n",
    "    pr_labels = pr_labels.view(pr_labels.size(0), -1)\n",
    "    pu_labels = pu_labels.to(device)\n",
    "    pu_labels = pu_labels.type(torch.cuda.FloatTensor)\n",
    "    pu_labels = pu_labels.view(pu_labels.size(0), -1) \n",
    "    \n",
    "    for i in range(len(labels)):\n",
    "        img_up = images_up[i].view(1, 1064)\n",
    "        img_down = images_down[i].view(1, 1064)\n",
    "        # Turn off gradients to speed up this part\n",
    "        with torch.no_grad():\n",
    "            san1_output = san1_model(img_up)\n",
    "            san2_output = san2_model(img_down)\n",
    "            san_output = torch.cat((san1_output, san2_output), 1)\n",
    "            \n",
    "            pr_output = pr_model(san_output)\n",
    "            pu_output = pu_model(san_output)\n",
    "\n",
    "        # Output of the network are log-probabilities, need to take exponential for probabilities\n",
    "        pr_pred_label = pr_output.reshape(-1).cpu().detach().numpy().round()\n",
    "        pr_true_label = pr_labels.cpu().numpy()[i]\n",
    "        if (pr_true_label == pr_pred_label):\n",
    "            pr_correct_count += 1\n",
    "            \n",
    "        pu_pred_label = pu_output.reshape(-1).cpu().detach().numpy().round()\n",
    "        pu_true_label = pu_labels.cpu().numpy()[i]\n",
    "        if (pu_true_label == pu_pred_label):\n",
    "            pu_correct_count += 1\n",
    "            \n",
    "        all_count += 1\n",
    "\n",
    "print(\"Number Of Images Tested =\", all_count)\n",
    "print(\"\\nPrivate Model Accuracy =\", (pr_correct_count/all_count))\n",
    "print(\"\\nPublic Model Accuracy = \", (pu_correct_count/all_count))"
   ]
  },
  {
   "cell_type": "markdown",
   "metadata": {},
   "source": [
    "RECONSTRUCTION MODEL"
   ]
  },
  {
   "cell_type": "code",
   "execution_count": 220,
   "metadata": {
    "jupyter": {
     "source_hidden": true
    }
   },
   "outputs": [],
   "source": [
    "rec_model = nn. Sequential(nn.Linear(128, 256),\n",
    "                          nn.ReLU(),\n",
    "                          nn.Linear(256, 512),\n",
    "                          nn.ReLU(),\n",
    "                          nn.Linear(512, 1024),\n",
    "                          nn.ReLU(),\n",
    "                          nn.Linear(1024, 1568),\n",
    "                          nn.LeakyReLU())\n",
    "\n",
    "rec_model.to(device)\n",
    "rec_criterion = nn.MSELoss()\n",
    "rec_optimizer = optim.SGD(rec_model.parameters(), lr=0.01, momentum=0.9)\n",
    "\n"
   ]
  },
  {
   "cell_type": "code",
   "execution_count": 256,
   "metadata": {
    "collapsed": true,
    "jupyter": {
     "outputs_hidden": true,
     "source_hidden": true
    }
   },
   "outputs": [
    {
     "name": "stdout",
     "output_type": "stream",
     "text": [
      "Training Epoch 0 - Rec loss: 0.057195624508097044\n",
      "Training Epoch 1 - Rec loss: 0.05701774339217817\n",
      "Training Epoch 2 - Rec loss: 0.056770883076597965\n",
      "Training Epoch 3 - Rec loss: 0.056536324088797545\n",
      "Training Epoch 4 - Rec loss: 0.056490724553804265\n",
      "Training Epoch 5 - Rec loss: 0.056247511769042295\n",
      "Training Epoch 6 - Rec loss: 0.05599028579509624\n",
      "Training Epoch 7 - Rec loss: 0.0561000967536436\n",
      "Training Epoch 8 - Rec loss: 0.05580484097742516\n",
      "Training Epoch 9 - Rec loss: 0.05577029188728089\n",
      "Training Epoch 10 - Rec loss: 0.055603309284390695\n",
      "Training Epoch 11 - Rec loss: 0.055622692655800554\n",
      "Training Epoch 12 - Rec loss: 0.0552912936462542\n",
      "Training Epoch 13 - Rec loss: 0.05528415300314079\n",
      "Training Epoch 14 - Rec loss: 0.05504463810730926\n",
      "Training Epoch 15 - Rec loss: 0.05499777013002454\n",
      "Training Epoch 16 - Rec loss: 0.05487091483934151\n",
      "Training Epoch 17 - Rec loss: 0.05481001448905681\n",
      "Training Epoch 18 - Rec loss: 0.05463988080030055\n",
      "Training Epoch 19 - Rec loss: 0.05447860768117258\n",
      "Training Epoch 20 - Rec loss: 0.0544543571703498\n",
      "Training Epoch 21 - Rec loss: 0.054438629285301396\n",
      "Training Epoch 22 - Rec loss: 0.054253155718107356\n",
      "Training Epoch 23 - Rec loss: 0.05427332333458201\n",
      "Training Epoch 24 - Rec loss: 0.054243539424274886\n",
      "Training Epoch 25 - Rec loss: 0.05411179029308926\n",
      "Training Epoch 26 - Rec loss: 0.054078089516333604\n",
      "Training Epoch 27 - Rec loss: 0.05408323826292134\n",
      "Training Epoch 28 - Rec loss: 0.05375835409535624\n",
      "Training Epoch 29 - Rec loss: 0.05377971195637265\n",
      "Training Epoch 30 - Rec loss: 0.0539360566688773\n",
      "Training Epoch 31 - Rec loss: 0.05357798869671571\n",
      "Training Epoch 32 - Rec loss: 0.05357767681560248\n",
      "Training Epoch 33 - Rec loss: 0.05355601777772769\n",
      "Training Epoch 34 - Rec loss: 0.053611553157382\n",
      "Training Epoch 35 - Rec loss: 0.05354769599845495\n",
      "Training Epoch 36 - Rec loss: 0.05334096658698586\n",
      "Training Epoch 37 - Rec loss: 0.0533113742433012\n",
      "Training Epoch 38 - Rec loss: 0.05343153696897847\n",
      "Training Epoch 39 - Rec loss: 0.053343122353410474\n",
      "Training Epoch 40 - Rec loss: 0.0531556333184166\n",
      "Training Epoch 41 - Rec loss: 0.05348449549101807\n",
      "Training Epoch 42 - Rec loss: 0.05319255632836648\n",
      "Training Epoch 43 - Rec loss: 0.0532637734937927\n",
      "Training Epoch 44 - Rec loss: 0.05307278188560015\n",
      "Training Epoch 45 - Rec loss: 0.05297538213660497\n",
      "Training Epoch 46 - Rec loss: 0.0530206400834386\n",
      "Training Epoch 47 - Rec loss: 0.05292433778972119\n",
      "Training Epoch 48 - Rec loss: 0.053006404810739906\n",
      "Training Epoch 49 - Rec loss: 0.05287790705766672\n",
      "\n",
      "Training Time (in minutes) = 272.2939998984337\n"
     ]
    }
   ],
   "source": [
    "epochs = 50 \n",
    "\n",
    "# san_model.eval()\n",
    "# rec_model.train()\n",
    "\n",
    "for e in range(epochs):\n",
    "    rec_running_loss = 0\n",
    "    for idx, (images, labels, pr_labels, pu_labels) in enumerate(train_loader):\n",
    "        # Flatten MNIST images into a 784 long vector\n",
    "        images = images.view(images.shape[0], -1)\n",
    "        images = images.to(device)\n",
    "        \n",
    "        # Training pass\n",
    "        rec_optimizer.zero_grad()\n",
    "\n",
    "        san_output = san_model(images)\n",
    "\n",
    "        rec_output = rec_model(san_output)\n",
    "        rec_loss = rec_criterion(rec_output, images)\n",
    "        rec_loss.backward()\n",
    "        rec_optimizer.step()\n",
    "\n",
    "        rec_running_loss += rec_loss.item()\n",
    "        \n",
    "            \n",
    "    else:\n",
    "        print(\"Training Epoch {} - Rec loss: {}\".format(e, rec_running_loss/len(train_loader)))\n",
    "        \n",
    "#     if e % 5 == 0:\n",
    "#               save_decod_img(rec_output.cpu().data, images.cpu().data, e)\n",
    "print(\"\\nTraining Time (in minutes) =\",(time()-time0)/60)"
   ]
  },
  {
   "cell_type": "code",
   "execution_count": 20,
   "metadata": {},
   "outputs": [],
   "source": [
    "def view_image(org_img, rec_img):\n",
    "    ''' Function for viewing an image and it's predicted classes.\n",
    "    '''\n",
    "    fig, (ax1, ax2) = plt.subplots(figsize=(6,9), ncols=2)\n",
    "    ax1.imshow(org_img.cpu().resize_(1, 28, 56).numpy().squeeze())\n",
    "    ax1.axis('off')\n",
    "    ax2.imshow(rec_img.cpu().resize(1, 28, 56).numpy().squeeze())\n",
    "    ax2.axis('off')\n",
    "    plt.tight_layout()"
   ]
  },
  {
   "cell_type": "code",
   "execution_count": 21,
   "metadata": {},
   "outputs": [
    {
     "data": {
      "image/png": "[encoded data removed]",
      "text/plain": [
       "<Figure size 432x648 with 2 Axes>"
      ]
     },
     "metadata": {
      "needs_background": "light"
     },
     "output_type": "display_data"
    },
    {
     "data": {
      "image/png": "[encoded data removed]",
      "text/plain": [
       "<Figure size 432x648 with 2 Axes>"
      ]
     },
     "metadata": {
      "needs_background": "light"
     },
     "output_type": "display_data"
    },
    {
     "data": {
      "image/png": "[encoded data removed]",
      "text/plain": [
       "<Figure size 432x648 with 2 Axes>"
      ]
     },
     "metadata": {
      "needs_background": "light"
     },
     "output_type": "display_data"
    },
    {
     "data": {
      "image/png": "[encoded data removed]",
      "text/plain": [
       "<Figure size 432x648 with 2 Axes>"
      ]
     },
     "metadata": {
      "needs_background": "light"
     },
     "output_type": "display_data"
    },
    {
     "data": {
      "image/png": "[encoded data removed]",
      "text/plain": [
       "<Figure size 432x648 with 2 Axes>"
      ]
     },
     "metadata": {
      "needs_background": "light"
     },
     "output_type": "display_data"
    },
    {
     "data": {
      "image/png": "[encoded data removed]",
      "text/plain": [
       "<Figure size 432x648 with 2 Axes>"
      ]
     },
     "metadata": {
      "needs_background": "light"
     },
     "output_type": "display_data"
    },
    {
     "data": {
      "image/png": "[encoded data removed]",
      "text/plain": [
       "<Figure size 432x648 with 2 Axes>"
      ]
     },
     "metadata": {
      "needs_background": "light"
     },
     "output_type": "display_data"
    },
    {
     "data": {
      "image/png": "[encoded data removed]",
      "text/plain": [
       "<Figure size 432x648 with 2 Axes>"
      ]
     },
     "metadata": {
      "needs_background": "light"
     },
     "output_type": "display_data"
    },
    {
     "data": {
      "image/png": "[encoded data removed]",
      "text/plain": [
       "<Figure size 432x648 with 2 Axes>"
      ]
     },
     "metadata": {
      "needs_background": "light"
     },
     "output_type": "display_data"
    },
    {
     "data": {
      "image/png": "[encoded data removed]",
      "text/plain": [
       "<Figure size 432x648 with 2 Axes>"
      ]
     },
     "metadata": {
      "needs_background": "light"
     },
     "output_type": "display_data"
    }
   ],
   "source": [
    "images, images_up, images_down, labels, pr_labels, pu_labels = next(iter(test_loader))\n",
    "images = images.view(images.shape[0], -1)\n",
    "images = images.to(device)\n",
    "images_up = images_up.view(images_up.size(0), -1)\n",
    "images_up = images_up.to(device)\n",
    "images_down = images_down.view(images_down.size(0), -1)\n",
    "images_down = images_down.to(device)\n",
    "\n",
    "with torch.no_grad():\n",
    "    for i in range(10):\n",
    "        img = images[i].view(1, 1568)\n",
    "        img_up = images_up[i].view(1, 1064)\n",
    "        img_down = images_down[i].view(1, 1064)\n",
    "        san1_output = san1_model(img_up)\n",
    "        san2_output = san2_model(img_down)\n",
    "        san_output = torch.cat((san1_output, san2_output),1)\n",
    "        \n",
    "        rec_output = rec_model(san_output)\n",
    "\n",
    "        view_image(img.view(1, 28, 56), rec_output.view(1, 28, 56))\n",
    "#         view_image()"
   ]
  },
  {
   "cell_type": "markdown",
   "metadata": {},
   "source": [
    "NEW PRIVATE MODEL"
   ]
  },
  {
   "cell_type": "code",
   "execution_count": 16,
   "metadata": {},
   "outputs": [],
   "source": [
    "new_pr_model = nn.Sequential(nn.Linear(128, 64),\n",
    "                        nn.ReLU(),\n",
    "                        nn.Linear(64, 32),\n",
    "                        nn.ReLU(),\n",
    "                        nn.Linear(32, 10),\n",
    "                        nn.ReLU(),\n",
    "                        nn.Linear(10, 1),\n",
    "                        nn.Sigmoid())\n",
    "new_pr_model.to(device)\n",
    "new_pr_optimizer = optim.SGD(new_pr_model.parameters(), lr=0.001, momentum=0.9)\n",
    "new_criterion = nn.BCEWithLogitsLoss()\n"
   ]
  },
  {
   "cell_type": "code",
   "execution_count": 18,
   "metadata": {},
   "outputs": [
    {
     "name": "stdout",
     "output_type": "stream",
     "text": [
      "Training Epoch 0 - New Private loss: 0.7032819795029243\n",
      "Training Epoch 1 - New Private loss: 0.7032818866660223\n",
      "Training Epoch 2 - New Private loss: 0.7033086957986397\n",
      "Training Epoch 3 - New Private loss: 0.7033989786187096\n",
      "Training Epoch 4 - New Private loss: 0.7032533753710939\n",
      "Training Epoch 5 - New Private loss: 0.7032525505098846\n",
      "Training Epoch 6 - New Private loss: 0.7032524085105838\n",
      "Training Epoch 7 - New Private loss: 0.7033065597876869\n",
      "Training Epoch 8 - New Private loss: 0.7032791079615083\n",
      "Training Epoch 9 - New Private loss: 0.7032236663429329\n",
      "Training Epoch 10 - New Private loss: 0.703194494366341\n",
      "Training Epoch 11 - New Private loss: 0.7033101401060743\n",
      "Training Epoch 12 - New Private loss: 0.7033086946553282\n",
      "Training Epoch 13 - New Private loss: 0.7033068242737704\n",
      "Training Epoch 14 - New Private loss: 0.7031656743010597\n",
      "Training Epoch 15 - New Private loss: 0.7032827205975037\n",
      "Training Epoch 16 - New Private loss: 0.7032830186207276\n",
      "Training Epoch 17 - New Private loss: 0.7033664812059963\n",
      "Training Epoch 18 - New Private loss: 0.7033091700442916\n",
      "Training Epoch 19 - New Private loss: 0.7032805178171534\n",
      "Training Epoch 20 - New Private loss: 0.7033678668996562\n",
      "Training Epoch 21 - New Private loss: 0.7032244577432227\n",
      "Training Epoch 22 - New Private loss: 0.7032504132793992\n",
      "Training Epoch 23 - New Private loss: 0.7032260659253201\n",
      "Training Epoch 24 - New Private loss: 0.7032787641295997\n",
      "Training Epoch 25 - New Private loss: 0.703249329724885\n",
      "Training Epoch 26 - New Private loss: 0.7031944952047694\n",
      "Training Epoch 27 - New Private loss: 0.7032576063100029\n",
      "Training Epoch 28 - New Private loss: 0.7031381455681208\n",
      "Training Epoch 29 - New Private loss: 0.7032539643290098\n",
      "Training Epoch 30 - New Private loss: 0.7033056799712998\n",
      "Training Epoch 31 - New Private loss: 0.7033696654050247\n",
      "Training Epoch 32 - New Private loss: 0.7033408219399659\n",
      "Training Epoch 33 - New Private loss: 0.7033369233998497\n",
      "Training Epoch 34 - New Private loss: 0.7031961244238002\n",
      "Training Epoch 35 - New Private loss: 0.7033385876804361\n",
      "Training Epoch 36 - New Private loss: 0.7032195578145859\n",
      "Training Epoch 37 - New Private loss: 0.7033116269447005\n",
      "Training Epoch 38 - New Private loss: 0.7032788674849684\n",
      "Training Epoch 39 - New Private loss: 0.703254721963497\n",
      "Training Epoch 40 - New Private loss: 0.7032808636308021\n",
      "Training Epoch 41 - New Private loss: 0.703369717082709\n",
      "Training Epoch 42 - New Private loss: 0.70333541453342\n",
      "Training Epoch 43 - New Private loss: 0.7033075068307959\n",
      "Training Epoch 44 - New Private loss: 0.703248648006288\n",
      "Training Epoch 45 - New Private loss: 0.7032512081096239\n",
      "Training Epoch 46 - New Private loss: 0.7032245015701675\n",
      "Training Epoch 47 - New Private loss: 0.7031931361883802\n",
      "Training Epoch 48 - New Private loss: 0.7032255555510216\n",
      "Training Epoch 49 - New Private loss: 0.7032523457046664\n",
      "\n",
      "Training Time (in minutes) = 6.56963449716568\n"
     ]
    }
   ],
   "source": [
    "train_loss_new_pr = []\n",
    "\n",
    "time0 = time()\n",
    "epochs = 50 #run for 500 epochs; start at random points; change the arch\n",
    "for e in range(epochs):\n",
    "    running_loss = 0\n",
    "    new_pr_running_loss = 0\n",
    "    for idx, (images, labels, pr_labels, pu_labels)in enumerate(train_loader):\n",
    "        # Flatten MNIST images into a 784 long vector\n",
    "        images = images.view(images.size(0), -1)\n",
    "        images = images.to(device)\n",
    "        labels = labels.to(device)\n",
    "        labels = labels.type(torch.cuda.FloatTensor)\n",
    "        labels = labels.view(labels.size(0), -1)\n",
    "        pr_labels = pr_labels.to(device)\n",
    "        pr_labels = pr_labels.type(torch.cuda.FloatTensor)\n",
    "        pr_labels = pr_labels.view(pr_labels.size(0), -1)\n",
    "        \n",
    "        # Training pass\n",
    "        new_pr_optimizer.zero_grad()\n",
    "\n",
    "        san_output = san_model(images)\n",
    "\n",
    "        new_pr_output = new_pr_model(san_output)\n",
    "        new_pr_loss = criterion(new_pr_output, pr_labels)\n",
    "        new_pr_loss.backward()\n",
    "        new_pr_optimizer.step()\n",
    "        new_pr_running_loss += new_pr_loss.item()\n",
    "            \n",
    "    else:\n",
    "        print(\"Training Epoch {} - New Private loss: {}\".format(e, new_pr_running_loss/len(train_loader)))\n",
    "    train_loss_pr.append(pr_running_loss/len(train_loader))\n",
    "print(\"\\nTraining Time (in minutes) =\",(time()-time0)/60)"
   ]
  },
  {
   "cell_type": "code",
   "execution_count": 25,
   "metadata": {},
   "outputs": [
    {
     "name": "stdout",
     "output_type": "stream",
     "text": [
      "Private model output value =  0.12034203112125397\n",
      "Predicted Private label = [0.]\n"
     ]
    },
    {
     "data": {
      "image/png": "[encoded data removed]",
      "text/plain": [
       "<Figure size 432x648 with 2 Axes>"
      ]
     },
     "metadata": {
      "needs_background": "light"
     },
     "output_type": "display_data"
    }
   ],
   "source": [
    "images, labels, pr_labels, pu_labels = next(iter(test_loader))\n",
    "images = images.view(images.shape[0], -1)\n",
    "images = images.to(device)\n",
    "labels = labels.to(device)\n",
    "labels = labels.type(torch.cuda.FloatTensor)\n",
    "labels = labels.view(labels.size(0), -1)\n",
    "pr_labels = pr_labels.to(device)\n",
    "pr_labels = pr_labels.type(torch.cuda.FloatTensor)\n",
    "pr_labels = pr_labels.view(pr_labels.size(0), -1)\n",
    "i = 10\n",
    "img = images[i].view(1, 1568)\n",
    "\n",
    "with torch.no_grad():\n",
    "    san_output = san_model(img)\n",
    "    pr_output = pr_model(san_output)\n",
    "    pr_out = pr_output.reshape(-1).cpu().detach().numpy().round()\n",
    "    \n",
    "print(\"Private model output value = \", pr_output.item())\n",
    "print(\"Predicted Private label =\", pr_out)\n",
    "view_classify(img.view(1, 28, 56), pr_output)"
   ]
  },
  {
   "cell_type": "code",
   "execution_count": 19,
   "metadata": {},
   "outputs": [
    {
     "name": "stdout",
     "output_type": "stream",
     "text": [
      "Number Of Images Tested = 4999\n",
      "\n",
      "Private Model Accuracy = 0.5109021804360873\n"
     ]
    }
   ],
   "source": [
    "pr_correct_count, all_count = 0, 0\n",
    "for images,labels, pr_labels, pu_labels in test_loader:\n",
    "    images = images.view(images.shape[0], -1)\n",
    "    images = images.to(device)\n",
    "    labels = labels.to(device)\n",
    "    labels = labels.type(torch.cuda.FloatTensor)\n",
    "    labels = labels.view(labels.size(0), -1)\n",
    "    pr_labels = pr_labels.to(device)\n",
    "    pr_labels = pr_labels.type(torch.cuda.FloatTensor)\n",
    "    pr_labels = pr_labels.view(pr_labels.size(0), -1)\n",
    "    \n",
    "    for i in range(len(labels)):\n",
    "        img = images[i].view(1, 1568)\n",
    "        # Turn off gradients to speed up this part\n",
    "        with torch.no_grad():\n",
    "            san_output = san_model(img)\n",
    "            pr_output = pr_model(san_output)\n",
    "\n",
    "        # Output of the network are log-probabilities, need to take exponential for probabilities\n",
    "        pr_pred_label = pr_output.reshape(-1).cpu().detach().numpy().round()\n",
    "        pr_true_label = pr_labels.cpu().numpy()[i]\n",
    "        if (pr_true_label == pr_pred_label):\n",
    "            pr_correct_count += 1\n",
    "            \n",
    "        all_count += 1\n",
    "\n",
    "print(\"Number Of Images Tested =\", all_count)\n",
    "print(\"\\nPrivate Model Accuracy =\", (pr_correct_count/all_count))"
   ]
  },
  {
   "cell_type": "code",
   "execution_count": null,
   "metadata": {},
   "outputs": [],
   "source": [
    "Train a new recon"
   ]
  },
  {
   "cell_type": "code",
   "execution_count": 28,
   "metadata": {},
   "outputs": [],
   "source": [
    "from sklearn.metrics import *\n",
    "def evaluate(san_model, pr_model, pu_model):\n",
    "    san_model.eval()\n",
    "    pr_model.eval()\n",
    "    pu_model.eval()\n",
    "\n",
    "    pu_correct = 0 \n",
    "    pr_correct = 0\n",
    "    pr_pred_list = []\n",
    "    pu_pred_list = []\n",
    "    pr_gt = []\n",
    "    pu_gt = []\n",
    "    pu_score = []\n",
    "    pr_score = []\n",
    "    \n",
    "    with torch.no_grad():\n",
    "        for data in test_loader:\n",
    "            img, labels, pr_labels, pu_labels = data\n",
    "            img = img.view(img.size(0), -1)\n",
    "            img = img.to(device)\n",
    "            labels = labels.to(device)\n",
    "            pr_labels = pr_labels.to(device)\n",
    "            pu_labels = pu_labels.to(device)\n",
    "            \n",
    "            san_out = san_model(img)\n",
    "\n",
    "#             rec_out = rec_model(san_out)\n",
    "            private_out = pr_model(san_out)\n",
    "#             print(private_out)\n",
    "            pr_out = torch.sigmoid(private_out)\n",
    "#             print(pr_out)\n",
    "            public_out = pu_model(san_out)\n",
    "#             print(public_out)\n",
    "            pu_out = torch.sigmoid(public_out)\n",
    "#             print(pu_out)\n",
    "            \n",
    "            pr_score.extend(pr_out.cpu().numpy())\n",
    "            pu_score.extend(pu_out.cpu().numpy())\n",
    "                        \n",
    "            pr_pred = torch.round(pr_out)\n",
    "            pr_pred_list.extend(pr_pred.cpu().numpy())\n",
    "            pu_pred = torch.round(pu_out)\n",
    "            pu_pred_list.extend(pu_pred.cpu().numpy())\n",
    "            \n",
    "            for gt in range(len(pr_labels)):\n",
    "                \n",
    "                pr_gt.append(pr_labels[gt].item())\n",
    "                pu_gt.append(pu_labels[gt].item())\n",
    "        \n",
    "    \n",
    "#     view_image(rec_out[5].view(1, 28, 56), img[5].view(1, 28, 56))\n",
    "           \n",
    "    pr_pred_list = [a.squeeze().tolist() for a in pr_pred_list]\n",
    "    pu_pred_list = [a.squeeze().tolist() for a in pu_pred_list]\n",
    "        \n",
    "    return pr_pred_list, pu_pred_list, pr_gt, pu_gt, pr_score, pu_score\n",
    "pr_pred_list, pu_pred_list, pr_gt, pu_gt, pr_score, pu_score = evaluate(san_model, pr_model, pu_model)"
   ]
  },
  {
   "cell_type": "code",
   "execution_count": 29,
   "metadata": {},
   "outputs": [
    {
     "name": "stdout",
     "output_type": "stream",
     "text": [
      "Private:\n",
      "[[   0 2554]\n",
      " [   0 2445]]\n",
      "0.4890978195639128\n",
      "Public:\n",
      "[[2367  167]\n",
      " [  17 2448]]\n",
      "0.9631926385277055\n"
     ]
    }
   ],
   "source": [
    "print('Private:')\n",
    "print(confusion_matrix(pr_gt, pr_pred_list))\n",
    "print(accuracy_score(pr_gt, pr_pred_list))\n",
    "\n",
    "print('Public:')\n",
    "print(confusion_matrix(pu_gt, pu_pred_list))\n",
    "print(accuracy_score(pu_gt, pu_pred_list))\n",
    "# print(classification_report(pr_gt, pr_pred_list))"
   ]
  },
  {
   "cell_type": "code",
   "execution_count": 30,
   "metadata": {},
   "outputs": [
    {
     "data": {
      "image/png": "[encoded data removed]",
      "text/plain": [
       "<Figure size 432x288 with 1 Axes>"
      ]
     },
     "metadata": {
      "needs_background": "light"
     },
     "output_type": "display_data"
    }
   ],
   "source": [
    "fpr = dict()\n",
    "tpr = dict()\n",
    "roc_auc = dict()\n",
    "# fpr, tpr, t = roc_curve(pu_gt, pu_pred_list)\n",
    "fpr, tpr, t = roc_curve(pu_gt, pu_score)\n",
    "roc_auc = auc(fpr, tpr)\n",
    "# print(fpr, tpr)\n",
    "# print(t)\n",
    "plt.figure()\n",
    "lw = 2\n",
    "plt.plot(fpr, tpr, color='darkorange',\n",
    "         lw=lw, label='ROC curve (area = %0.2f)' % roc_auc)\n",
    "plt.plot([0, 1], [0, 1], color='navy', lw=lw, linestyle='--')\n",
    "plt.xlim([0.0, 1.0])\n",
    "plt.ylim([0.0, 1.05])\n",
    "plt.xlabel('False Positive Rate')\n",
    "plt.ylabel('True Positive Rate')\n",
    "plt.title('Public ROC')\n",
    "plt.legend(loc=\"lower right\")\n",
    "plt.show()\n",
    "# plt.savefig(image_dir+'Pu_ROC.png')"
   ]
  },
  {
   "cell_type": "code",
   "execution_count": 31,
   "metadata": {},
   "outputs": [
    {
     "data": {
      "image/png": "[encoded data removed]",
      "text/plain": [
       "<Figure size 432x288 with 1 Axes>"
      ]
     },
     "metadata": {
      "needs_background": "light"
     },
     "output_type": "display_data"
    }
   ],
   "source": [
    "fpr = dict()\n",
    "tpr = dict()\n",
    "roc_auc = dict()\n",
    "# fpr, tpr, t = roc_curve(pu_gt, pu_pred_list)\n",
    "fpr, tpr, t = roc_curve(pr_gt, pr_score)\n",
    "roc_auc = auc(fpr, tpr)\n",
    "# print(fpr, tpr)\n",
    "# print(t)\n",
    "plt.figure()\n",
    "lw = 2\n",
    "plt.plot(fpr, tpr, color='darkorange',\n",
    "         lw=lw, label='ROC curve (area = %0.2f)' % roc_auc)\n",
    "plt.plot([0, 1], [0, 1], color='navy', lw=lw, linestyle='--')\n",
    "plt.xlim([0.0, 1.0])\n",
    "plt.ylim([0.0, 1.05])\n",
    "plt.xlabel('False Positive Rate')\n",
    "plt.ylabel('True Positive Rate')\n",
    "plt.title('Private ROC')\n",
    "plt.legend(loc=\"lower right\")\n",
    "plt.show()\n",
    "# plt.savefig(image_dir+'Pu_ROC.png')"
   ]
  },
  {
   "cell_type": "code",
   "execution_count": null,
   "metadata": {},
   "outputs": [],
   "source": []
  }
 ],
 "metadata": {
  "kernelspec": {
   "display_name": "Python 3",
   "language": "python",
   "name": "python3"
  },
  "language_info": {
   "codemirror_mode": {
    "name": "ipython",
    "version": 3
   },
   "file_extension": ".py",
   "mimetype": "text/x-python",
   "name": "python",
   "nbconvert_exporter": "python",
   "pygments_lexer": "ipython3",
   "version": "3.6.12"
  }
 },
 "nbformat": 4,
 "nbformat_minor": 4
}
